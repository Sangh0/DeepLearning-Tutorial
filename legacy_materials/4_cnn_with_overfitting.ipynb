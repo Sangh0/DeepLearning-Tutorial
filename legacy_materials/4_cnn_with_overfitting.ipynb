{
 "cells": [
  {
   "cell_type": "markdown",
   "id": "a0e35525",
   "metadata": {},
   "source": [
    "# DL Study fourth week  \n",
    "- over-fitting problem"
   ]
  },
  {
   "cell_type": "markdown",
   "id": "07f1468e",
   "metadata": {},
   "source": [
    "### Over-Fitting (과적합)이란?  \n",
    "- train data에 대해서만 성능이 좋으며 그 외의 data에 대해서는 성능이 좋지 않은 경우를 오버피팅이라 함  \n",
    "\n",
    "<img src = \"http://itimg.chosun.com/sitedata/image/201802/06/2018020685029_1.jpg\">  \n",
    "\n",
    "- 우리의 목표는 train data를 잘 맞추는 것이 아님  \n",
    "- train data를 하나 하나 다 맞추는 것이 아닌 경향성만 파악을 하는 것이 목적  \n",
    "- 그래서 어떤 data에 대해서도 좋은 성능을 가질 수 있는 일반화된 모델을 얻는 것이다  \n",
    "- 그러나 우리가 어떤 목적을 두고 딥러닝 모델을 구축할 때 항상 좋은 성능의 모델을 얻을 수 만은 없다  \n",
    "- 다양하게 겪을 수 있는 문제 중에서 오버피팅을 해결하는 방법을 살펴본다  "
   ]
  },
  {
   "cell_type": "markdown",
   "id": "74821fcd",
   "metadata": {},
   "source": [
    "- 1. early stopping  \n",
    "    - validation의 loss가 증가하기 시작하는 지점 전까지 model을 저장해 학습을 종료시키는 기법이다  \n",
    "    \n",
    "- 2. regularization  \n",
    "    - 오버피팅이 일어나는 이유를 최적화 관점에서 생각해보면 loss 값이 필요 이상으로 작아진다고 볼 수 있다  \n",
    "    - 즉, loss function에 어떤 값을 추가해 loss 값이 너무 작아지지 않게 설정하는 것이다  \n",
    "    - 이를 regularizatoin(정규화)라고 한다  \n",
    "    - 일반적으로 L1 regularization, L2 regularization을 사용한다  \n",
    "    - weight에도 마찬가지로 적용 가능  \n",
    "    \n",
    "    $$Loss = Error\\left(y, \\hat{y} \\right) + \\lambda \\sum_{i=1}^N|w_i|$$\n",
    "\n",
    "- 3. batch normalization  \n",
    "    - batch normalization은 activation layer의 output을 정규화하는 작업을 뜻한다  \n",
    "    - 활성화 값이 어느 한 쪽으로 치우친 형태가 아닌 적절하게 분포되도록 하도록 도와준다  \n",
    "    - batch normalization을 함으로써 초깃값에 크게 의존하지 않아도 되며  \n",
    "    - gradient vanishing을 방지할 수 있다  \n",
    "    - Convolution layer 이후에, activation layer 이전에 적용한다\n",
    "\n",
    "- 4. drop out  \n",
    "    - drop out은 network의 일부 노드만 동작하고 일부는 동작하지 않도록 설정하는 방법이다  \n",
    "    - 훈련 과정에서 일부 뉴런을 임의로 삭제하면서 학습을 한다  \n",
    "    - activation layer 이후에 적용한다  \n",
    "\n",
    "- 5. network를 더 간단하게 구성  \n",
    "    - network가 너무 깊거나 복잡해 gradient vanishing이 일어나는 경우에 layer 수를 더 줄이면 해결할 수 있다  "
   ]
  },
  {
   "cell_type": "code",
   "execution_count": 1,
   "id": "ea7758cb",
   "metadata": {},
   "outputs": [],
   "source": [
    "import numpy as np\n",
    "import matplotlib.pyplot as plt\n",
    "import tensorflow as tf\n",
    "from tensorflow.keras.models import (\n",
    "    Sequential\n",
    ")\n",
    "from tensorflow.keras.layers import (\n",
    "    Conv2D, \n",
    "    MaxPooling2D,\n",
    "    BatchNormalization, \n",
    "    Dropout,\n",
    "    Flatten, \n",
    "    Dense,\n",
    "    GlobalAveragePooling2D,\n",
    "    Activation\n",
    ")"
   ]
  },
  {
   "cell_type": "code",
   "execution_count": 2,
   "id": "3664485c",
   "metadata": {},
   "outputs": [],
   "source": [
    "# mnist dataset 로드\n",
    "mnist = tf.keras.datasets.mnist\n",
    "\n",
    "(X_train, y_train), (X_test, y_test) = mnist.load_data()"
   ]
  },
  {
   "cell_type": "code",
   "execution_count": 3,
   "id": "d10703a2",
   "metadata": {},
   "outputs": [
    {
     "name": "stdout",
     "output_type": "stream",
     "text": [
      "The dimension of train data : (60000, 28, 28) (60000,)\n",
      "The dimension of test data : (10000, 28, 28) (10000,)\n"
     ]
    }
   ],
   "source": [
    "# dataset의 차원 확인하기\n",
    "print('The dimension of train data :', X_train.shape, y_train.shape)\n",
    "print('The dimension of test data :', X_test.shape, y_test.shape)"
   ]
  },
  {
   "cell_type": "code",
   "execution_count": 4,
   "id": "894e087c",
   "metadata": {},
   "outputs": [],
   "source": [
    "# label data를 one-hot encoding으로 변환 \n",
    "y_train = tf.keras.utils.to_categorical(y_train)\n",
    "y_test = tf.keras.utils.to_categorical(y_test)"
   ]
  },
  {
   "cell_type": "code",
   "execution_count": 5,
   "id": "ecb5b8cf",
   "metadata": {},
   "outputs": [],
   "source": [
    "# normalization\n",
    "X_train = X_train/255.0\n",
    "X_test = X_test/255.0"
   ]
  },
  {
   "cell_type": "markdown",
   "id": "99802989",
   "metadata": {},
   "source": [
    "### validation data 생성"
   ]
  },
  {
   "cell_type": "code",
   "execution_count": 6,
   "id": "f9976e69",
   "metadata": {},
   "outputs": [],
   "source": [
    "# train data set의 20%를 validation data로 split\n",
    "from sklearn.model_selection import train_test_split\n",
    "\n",
    "X_train, X_valid = train_test_split(X_train, test_size=0.2, shuffle=True, random_state=42)\n",
    "y_train, y_valid = train_test_split(y_train, test_size=0.2, shuffle=True, random_state=42)"
   ]
  },
  {
   "cell_type": "code",
   "execution_count": 7,
   "id": "2621df9f",
   "metadata": {},
   "outputs": [
    {
     "name": "stdout",
     "output_type": "stream",
     "text": [
      "(48000, 28, 28) (12000, 28, 28)\n",
      "(48000, 10) (12000, 10)\n"
     ]
    }
   ],
   "source": [
    "# train data와 validation data의 shape 확인\n",
    "print(X_train.shape, X_valid.shape)\n",
    "print(y_train.shape, y_valid.shape)"
   ]
  },
  {
   "cell_type": "code",
   "execution_count": 8,
   "id": "929a4f20",
   "metadata": {},
   "outputs": [],
   "source": [
    "# 모델 구축하기 전에 이미지 shape 변경\n",
    "X_train = X_train.reshape(-1, 28, 28, 1)\n",
    "X_valid = X_valid.reshape(-1, 28, 28, 1)\n",
    "X_test = X_test.reshape(-1, 28, 28, 1)"
   ]
  },
  {
   "cell_type": "code",
   "execution_count": 9,
   "id": "167f4ad9",
   "metadata": {
    "scrolled": true
   },
   "outputs": [
    {
     "name": "stdout",
     "output_type": "stream",
     "text": [
      "Model: \"sequential\"\n",
      "_________________________________________________________________\n",
      "Layer (type)                 Output Shape              Param #   \n",
      "=================================================================\n",
      "conv2d (Conv2D)              (None, 28, 28, 20)        200       \n",
      "_________________________________________________________________\n",
      "batch_normalization (BatchNo (None, 28, 28, 20)        80        \n",
      "_________________________________________________________________\n",
      "activation (Activation)      (None, 28, 28, 20)        0         \n",
      "_________________________________________________________________\n",
      "dropout (Dropout)            (None, 28, 28, 20)        0         \n",
      "_________________________________________________________________\n",
      "conv2d_1 (Conv2D)            (None, 28, 28, 20)        3620      \n",
      "_________________________________________________________________\n",
      "batch_normalization_1 (Batch (None, 28, 28, 20)        80        \n",
      "_________________________________________________________________\n",
      "activation_1 (Activation)    (None, 28, 28, 20)        0         \n",
      "_________________________________________________________________\n",
      "dropout_1 (Dropout)          (None, 28, 28, 20)        0         \n",
      "_________________________________________________________________\n",
      "max_pooling2d (MaxPooling2D) (None, 14, 14, 20)        0         \n",
      "_________________________________________________________________\n",
      "conv2d_2 (Conv2D)            (None, 14, 14, 40)        7240      \n",
      "_________________________________________________________________\n",
      "batch_normalization_2 (Batch (None, 14, 14, 40)        160       \n",
      "_________________________________________________________________\n",
      "activation_2 (Activation)    (None, 14, 14, 40)        0         \n",
      "_________________________________________________________________\n",
      "dropout_2 (Dropout)          (None, 14, 14, 40)        0         \n",
      "_________________________________________________________________\n",
      "conv2d_3 (Conv2D)            (None, 14, 14, 40)        14440     \n",
      "_________________________________________________________________\n",
      "batch_normalization_3 (Batch (None, 14, 14, 40)        160       \n",
      "_________________________________________________________________\n",
      "activation_3 (Activation)    (None, 14, 14, 40)        0         \n",
      "_________________________________________________________________\n",
      "dropout_3 (Dropout)          (None, 14, 14, 40)        0         \n",
      "_________________________________________________________________\n",
      "max_pooling2d_1 (MaxPooling2 (None, 7, 7, 40)          0         \n",
      "_________________________________________________________________\n",
      "global_average_pooling2d (Gl (None, 40)                0         \n",
      "_________________________________________________________________\n",
      "dense (Dense)                (None, 20)                820       \n",
      "_________________________________________________________________\n",
      "dropout_4 (Dropout)          (None, 20)                0         \n",
      "_________________________________________________________________\n",
      "activation_4 (Activation)    (None, 20)                0         \n",
      "_________________________________________________________________\n",
      "dense_1 (Dense)              (None, 10)                210       \n",
      "=================================================================\n",
      "Total params: 27,010\n",
      "Trainable params: 26,770\n",
      "Non-trainable params: 240\n",
      "_________________________________________________________________\n"
     ]
    }
   ],
   "source": [
    "# CNN model 구축\n",
    "# batch normalization layer, drop out layer 사용\n",
    "model = Sequential([\n",
    "    Conv2D(20, kernel_size=(3,3), strides=1, padding='same', \n",
    "           input_shape=(28,28,1)),\n",
    "    BatchNormalization(),\n",
    "    Activation('relu'),\n",
    "    Dropout(0.5),\n",
    "    Conv2D(20, kernel_size=(3,3), strides=1, padding='same', \n",
    "           kernel_regularizer=tf.keras.regularizers.l1(l=0.01)), # L1 regularization\n",
    "    BatchNormalization(),\n",
    "    Activation('relu'),\n",
    "    Dropout(0.5),\n",
    "    MaxPooling2D(pool_size=(2,2)),\n",
    "    \n",
    "    Conv2D(40, kernel_size=(3,3), strides=1, padding='same', \n",
    "           kernel_regularizer=tf.keras.regularizers.l1(l=0.01)),\n",
    "    BatchNormalization(),\n",
    "    Activation('relu'),\n",
    "    Dropout(0.5),\n",
    "    Conv2D(40, kernel_size=(3,3), strides=1, padding='same', \n",
    "           kernel_regularizer=tf.keras.regularizers.l1(l=0.01)),\n",
    "    BatchNormalization(),\n",
    "    Activation('relu'),\n",
    "    Dropout(0.5),\n",
    "    MaxPooling2D(pool_size=(2,2)),\n",
    "    \n",
    "    GlobalAveragePooling2D(),\n",
    "    Dense(20),\n",
    "    Dropout(0.5),\n",
    "    Activation('relu'),\n",
    "    Dense(10, activation='softmax')\n",
    "])\n",
    "\n",
    "model.summary()"
   ]
  },
  {
   "cell_type": "markdown",
   "id": "fd685502",
   "metadata": {},
   "source": [
    "## Global Average Pooling이란?  \n",
    "- 일반적으로 CNN에서 Convolution과 Pooling layer를 충분히 거친 후 flatten을 시켜 fully connected layer로 구성한다  \n",
    "- 그러나 flatten과 fc layer의 문제점은 feature에 대한 위치 정보를 손실한다는 것이다  \n",
    "- 심지어 차원도 높다  \n",
    "- 그래서 차원을 줄여주면서 feature의 위치 정보를 기억해주는 layer가 필요하다  \n",
    "- global average pooling layer는 이런 역할을 하기에 충분하다  \n",
    "\n",
    "<img src = \"https://gaussian37.github.io/assets/img/dl/concept/gap/5.png\">"
   ]
  },
  {
   "cell_type": "code",
   "execution_count": 11,
   "id": "ed2cd519",
   "metadata": {},
   "outputs": [],
   "source": [
    "# 학습하기 전 모델 compile하기\n",
    "# early stopping 설정\n",
    "es = tf.keras.callbacks.EarlyStopping(monitor='val_loss',\n",
    "                                      patience=10,\n",
    "                                      mode='min',\n",
    "                                      verbose=1)\n",
    "optimizer = tf.keras.optimizers.Adam(learning_rate=0.001)\n",
    "model.compile(optimizer=optimizer, \n",
    "              loss='categorical_crossentropy',\n",
    "              metrics=['accuracy'])"
   ]
  },
  {
   "cell_type": "code",
   "execution_count": 12,
   "id": "c3d570ee",
   "metadata": {
    "scrolled": true
   },
   "outputs": [
    {
     "name": "stdout",
     "output_type": "stream",
     "text": [
      "Epoch 1/30\n",
      "1500/1500 [==============================] - 54s 35ms/step - loss: 2.7623 - accuracy: 0.3823 - val_loss: 2.5099 - val_accuracy: 0.2297\n",
      "Epoch 2/30\n",
      "1500/1500 [==============================] - 55s 37ms/step - loss: 1.8713 - accuracy: 0.5597 - val_loss: 2.6397 - val_accuracy: 0.2216\n",
      "Epoch 3/30\n",
      "1500/1500 [==============================] - 57s 38ms/step - loss: 1.7404 - accuracy: 0.5989 - val_loss: 2.6731 - val_accuracy: 0.1758\n",
      "Epoch 4/30\n",
      "1500/1500 [==============================] - 57s 38ms/step - loss: 1.6543 - accuracy: 0.6200 - val_loss: 2.0122 - val_accuracy: 0.4156\n",
      "Epoch 5/30\n",
      "1500/1500 [==============================] - 56s 38ms/step - loss: 1.6343 - accuracy: 0.6283 - val_loss: 1.8438 - val_accuracy: 0.6275\n",
      "Epoch 6/30\n",
      "1500/1500 [==============================] - 57s 38ms/step - loss: 1.6210 - accuracy: 0.6321 - val_loss: 2.6271 - val_accuracy: 0.1134\n",
      "Epoch 7/30\n",
      "1500/1500 [==============================] - 56s 38ms/step - loss: 1.6040 - accuracy: 0.6367 - val_loss: 1.9022 - val_accuracy: 0.5522\n",
      "Epoch 8/30\n",
      "1500/1500 [==============================] - 56s 38ms/step - loss: 1.5959 - accuracy: 0.6429 - val_loss: 1.8766 - val_accuracy: 0.5638\n",
      "Epoch 9/30\n",
      "1500/1500 [==============================] - 57s 38ms/step - loss: 1.5740 - accuracy: 0.6484 - val_loss: 1.7051 - val_accuracy: 0.7033\n",
      "Epoch 10/30\n",
      "1500/1500 [==============================] - 56s 37ms/step - loss: 1.5760 - accuracy: 0.6483 - val_loss: 2.0251 - val_accuracy: 0.5118\n",
      "Epoch 11/30\n",
      "1500/1500 [==============================] - 56s 37ms/step - loss: 1.5381 - accuracy: 0.6611 - val_loss: 2.1223 - val_accuracy: 0.3506\n",
      "Epoch 12/30\n",
      "1500/1500 [==============================] - 56s 38ms/step - loss: 1.5420 - accuracy: 0.6620 - val_loss: 2.0140 - val_accuracy: 0.3985\n",
      "Epoch 13/30\n",
      "1500/1500 [==============================] - 59s 39ms/step - loss: 1.5239 - accuracy: 0.6650 - val_loss: 1.9233 - val_accuracy: 0.5223\n",
      "Epoch 14/30\n",
      "1500/1500 [==============================] - 56s 37ms/step - loss: 1.5155 - accuracy: 0.6705 - val_loss: 2.2764 - val_accuracy: 0.3521\n",
      "Epoch 15/30\n",
      "1500/1500 [==============================] - 57s 38ms/step - loss: 1.4989 - accuracy: 0.6791 - val_loss: 1.7411 - val_accuracy: 0.5742\n",
      "Epoch 16/30\n",
      "1500/1500 [==============================] - 56s 38ms/step - loss: 1.4884 - accuracy: 0.6852 - val_loss: 1.7900 - val_accuracy: 0.5818\n",
      "Epoch 17/30\n",
      "1500/1500 [==============================] - 56s 38ms/step - loss: 1.4955 - accuracy: 0.6841 - val_loss: 2.1399 - val_accuracy: 0.3783\n",
      "Epoch 18/30\n",
      "1500/1500 [==============================] - 56s 37ms/step - loss: 1.4711 - accuracy: 0.6892 - val_loss: 1.8598 - val_accuracy: 0.4882\n",
      "Epoch 19/30\n",
      "1500/1500 [==============================] - 56s 37ms/step - loss: 1.4633 - accuracy: 0.6894 - val_loss: 1.7501 - val_accuracy: 0.6754\n",
      "Epoch 00019: early stopping\n"
     ]
    }
   ],
   "source": [
    "history = model.fit(X_train, y_train,\n",
    "                    validation_data=(X_valid, y_valid),\n",
    "                    epochs=30,\n",
    "                    batch_size=32,\n",
    "                    callbacks=[es])"
   ]
  },
  {
   "cell_type": "code",
   "execution_count": 14,
   "id": "8c895c7d",
   "metadata": {},
   "outputs": [
    {
     "data": {
      "image/png": "[encoded data removed]",
      "text/plain": [
       "<Figure size 1440x504 with 2 Axes>"
      ]
     },
     "metadata": {
      "needs_background": "light"
     },
     "output_type": "display_data"
    }
   ],
   "source": [
    "# loss 및 accuracy 그래프 살펴보기\n",
    "plt.figure(figsize=(20,7))\n",
    "plt.subplot(1,2,1)\n",
    "plt.plot(history.history['loss'], label='train loss')\n",
    "plt.plot(history.history['val_loss'], label='valid loss')\n",
    "plt.legend(loc='best')\n",
    "plt.subplot(1,2,2)\n",
    "plt.plot(history.history['accuracy'], label='accuracy')\n",
    "plt.plot(history.history['val_accuracy'], label='valid accuracy')\n",
    "plt.legend(loc='best')\n",
    "plt.show()"
   ]
  },
  {
   "cell_type": "code",
   "execution_count": 15,
   "id": "823a7ff2",
   "metadata": {},
   "outputs": [
    {
     "name": "stdout",
     "output_type": "stream",
     "text": [
      "313/313 - 2s - loss: 1.7298 - accuracy: 0.6875\n",
      "Error: 1.729753851890564, Accuracy: 68.75%\n"
     ]
    }
   ],
   "source": [
    "# 모델 평가\n",
    "test_loss, test_acc = model.evaluate(X_test, y_test, verbose=2)\n",
    "print(f'Error: {test_loss}, Accuracy: {test_acc*100:.2f}%')"
   ]
  },
  {
   "cell_type": "code",
   "execution_count": null,
   "id": "77bdef7a",
   "metadata": {},
   "outputs": [],
   "source": []
  }
 ],
 "metadata": {
  "kernelspec": {
   "display_name": "Python 3 (ipykernel)",
   "language": "python",
   "name": "python3"
  },
  "language_info": {
   "codemirror_mode": {
    "name": "ipython",
    "version": 3
   },
   "file_extension": ".py",
   "mimetype": "text/x-python",
   "name": "python",
   "nbconvert_exporter": "python",
   "pygments_lexer": "ipython3",
   "version": "3.9.7"
  }
 },
 "nbformat": 4,
 "nbformat_minor": 5
}
