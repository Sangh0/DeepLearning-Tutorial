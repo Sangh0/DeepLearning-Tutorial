{
 "cells": [
  {
   "cell_type": "markdown",
   "id": "e1fc2313",
   "metadata": {},
   "source": [
    "# Gradient Descent 구현  "
   ]
  },
  {
   "cell_type": "code",
   "execution_count": 1,
   "id": "a8d20e71",
   "metadata": {},
   "outputs": [],
   "source": [
    "import numpy as np\n",
    "import matplotlib.pyplot as plt"
   ]
  },
  {
   "cell_type": "code",
   "execution_count": 2,
   "id": "ce59940d",
   "metadata": {},
   "outputs": [],
   "source": [
    "# 데이터 생성\n",
    "X_train = np.random.rand(100)\n",
    "y_train = 3 * X_train + 4 + np.random.rand(100)"
   ]
  },
  {
   "cell_type": "code",
   "execution_count": 3,
   "id": "1b91e1ae",
   "metadata": {
    "scrolled": false
   },
   "outputs": [
    {
     "data": {
      "image/png": "[encoded data removed]",
      "text/plain": [
       "<Figure size 1080x720 with 1 Axes>"
      ]
     },
     "metadata": {
      "needs_background": "light"
     },
     "output_type": "display_data"
    }
   ],
   "source": [
    "# train 데이터 scatter 시각화\n",
    "plt.figure(figsize=(15,10))\n",
    "plt.scatter(X_train, y_train)\n",
    "plt.show()"
   ]
  },
  {
   "cell_type": "markdown",
   "id": "6463680b",
   "metadata": {},
   "source": [
    "## Model equation and Loss function\n",
    "$$model\\,equation = w\\cdot x + b$$\n",
    "$$f\\left(x\\right) = \\frac{1}{n}\\sum_i^n\\frac{1}{2}\\left(y_{pred}-y_{true}\\right)^2\\qquad \\qquad $$  \n",
    "$$\\Rightarrow f\\left(x\\right) = \\frac{1}{2n}\\sum_i^n\\left(w\\cdot x + b-y_{true}\\right)^2\\qquad (1)$$\n",
    "## Gradient Descent Algorithm\n",
    "$$\\frac{\\partial}{\\partial w}f\\left(x\\right)=\\frac{1}{n}\\sum_i^nx\\left(w\\cdot x + b-y_{true}\\right)$$\n",
    "$$\\frac{\\partial}{\\partial b}f\\left(x\\right)=\\frac{1}{n}\\sum_i^n\\left(w\\cdot x + b-y_{true}\\right) $$  \n",
    "$$w_{n+1} = w_n - lr \\cdot \\frac{\\partial}{\\partial w}f\\left(x\\right)\\qquad \\qquad (2)$$  \n",
    "$$b_{n+1} = b_n - lr \\cdot \\frac{\\partial}{\\partial b}f\\left(x\\right)\\qquad \\qquad \\,\\,\\,\\,\\,(3)$$"
   ]
  },
  {
   "cell_type": "code",
   "execution_count": 4,
   "id": "217777a5",
   "metadata": {},
   "outputs": [],
   "source": [
    "# weight, bias 초깃값 설정\n",
    "w = 1.2\n",
    "b = 0.2\n",
    "\n",
    "# 하이퍼파라미터 설정\n",
    "max_epoch = 100\n",
    "learning_rate = 0.2"
   ]
  },
  {
   "cell_type": "code",
   "execution_count": 5,
   "id": "2ace2889",
   "metadata": {
    "scrolled": true
   },
   "outputs": [
    {
     "name": "stdout",
     "output_type": "stream",
     "text": [
      "epoch 1/100  weight = 1.829, bias = 1.262, loss = 14.304\n",
      "epoch 2/100  weight = 2.288, bias = 2.042, loss = 7.704\n",
      "epoch 3/100  weight = 2.623, bias = 2.614, loss = 4.160\n",
      "epoch 4/100  weight = 2.867, bias = 3.033, loss = 2.257\n",
      "epoch 5/100  weight = 3.044, bias = 3.342, loss = 1.235\n",
      "epoch 6/100  weight = 3.173, bias = 3.569, loss = 0.687\n",
      "epoch 7/100  weight = 3.266, bias = 3.736, loss = 0.392\n",
      "epoch 8/100  weight = 3.333, bias = 3.859, loss = 0.234\n",
      "epoch 9/100  weight = 3.380, bias = 3.950, loss = 0.149\n",
      "epoch 10/100  weight = 3.414, bias = 4.017, loss = 0.103\n",
      "epoch 11/100  weight = 3.437, bias = 4.068, loss = 0.078\n",
      "epoch 12/100  weight = 3.453, bias = 4.105, loss = 0.065\n",
      "epoch 13/100  weight = 3.464, bias = 4.133, loss = 0.058\n",
      "epoch 14/100  weight = 3.470, bias = 4.155, loss = 0.054\n",
      "epoch 15/100  weight = 3.473, bias = 4.171, loss = 0.052\n",
      "epoch 16/100  weight = 3.475, bias = 4.184, loss = 0.050\n",
      "epoch 17/100  weight = 3.475, bias = 4.194, loss = 0.050\n",
      "epoch 18/100  weight = 3.473, bias = 4.202, loss = 0.049\n",
      "epoch 19/100  weight = 3.471, bias = 4.209, loss = 0.049\n",
      "epoch 20/100  weight = 3.469, bias = 4.214, loss = 0.049\n",
      "epoch 21/100  weight = 3.465, bias = 4.219, loss = 0.048\n",
      "epoch 22/100  weight = 3.462, bias = 4.223, loss = 0.048\n",
      "epoch 23/100  weight = 3.459, bias = 4.227, loss = 0.048\n",
      "epoch 24/100  weight = 3.455, bias = 4.230, loss = 0.048\n",
      "epoch 25/100  weight = 3.451, bias = 4.233, loss = 0.048\n",
      "epoch 26/100  weight = 3.447, bias = 4.236, loss = 0.048\n",
      "epoch 27/100  weight = 3.443, bias = 4.239, loss = 0.048\n",
      "epoch 28/100  weight = 3.440, bias = 4.242, loss = 0.047\n",
      "epoch 29/100  weight = 3.436, bias = 4.244, loss = 0.047\n",
      "epoch 30/100  weight = 3.432, bias = 4.247, loss = 0.047\n",
      "epoch 31/100  weight = 3.428, bias = 4.249, loss = 0.047\n",
      "epoch 32/100  weight = 3.424, bias = 4.251, loss = 0.047\n",
      "epoch 33/100  weight = 3.421, bias = 4.254, loss = 0.047\n",
      "epoch 34/100  weight = 3.417, bias = 4.256, loss = 0.047\n",
      "epoch 35/100  weight = 3.413, bias = 4.258, loss = 0.047\n",
      "epoch 36/100  weight = 3.410, bias = 4.260, loss = 0.047\n",
      "epoch 37/100  weight = 3.406, bias = 4.262, loss = 0.047\n",
      "epoch 38/100  weight = 3.403, bias = 4.264, loss = 0.047\n",
      "epoch 39/100  weight = 3.399, bias = 4.267, loss = 0.046\n",
      "epoch 40/100  weight = 3.396, bias = 4.269, loss = 0.046\n",
      "epoch 41/100  weight = 3.392, bias = 4.271, loss = 0.046\n",
      "epoch 42/100  weight = 3.389, bias = 4.273, loss = 0.046\n",
      "epoch 43/100  weight = 3.386, bias = 4.275, loss = 0.046\n",
      "epoch 44/100  weight = 3.383, bias = 4.277, loss = 0.046\n",
      "epoch 45/100  weight = 3.379, bias = 4.279, loss = 0.046\n",
      "epoch 46/100  weight = 3.376, bias = 4.280, loss = 0.046\n",
      "epoch 47/100  weight = 3.373, bias = 4.282, loss = 0.046\n",
      "epoch 48/100  weight = 3.370, bias = 4.284, loss = 0.046\n",
      "epoch 49/100  weight = 3.367, bias = 4.286, loss = 0.046\n",
      "epoch 50/100  weight = 3.364, bias = 4.288, loss = 0.046\n",
      "epoch 51/100  weight = 3.361, bias = 4.290, loss = 0.046\n",
      "epoch 52/100  weight = 3.358, bias = 4.291, loss = 0.046\n",
      "epoch 53/100  weight = 3.355, bias = 4.293, loss = 0.045\n",
      "epoch 54/100  weight = 3.352, bias = 4.295, loss = 0.045\n",
      "epoch 55/100  weight = 3.349, bias = 4.297, loss = 0.045\n",
      "epoch 56/100  weight = 3.346, bias = 4.298, loss = 0.045\n",
      "epoch 57/100  weight = 3.344, bias = 4.300, loss = 0.045\n",
      "epoch 58/100  weight = 3.341, bias = 4.301, loss = 0.045\n",
      "epoch 59/100  weight = 3.338, bias = 4.303, loss = 0.045\n",
      "epoch 60/100  weight = 3.336, bias = 4.305, loss = 0.045\n",
      "epoch 61/100  weight = 3.333, bias = 4.306, loss = 0.045\n",
      "epoch 62/100  weight = 3.330, bias = 4.308, loss = 0.045\n",
      "epoch 63/100  weight = 3.328, bias = 4.309, loss = 0.045\n",
      "epoch 64/100  weight = 3.325, bias = 4.311, loss = 0.045\n",
      "epoch 65/100  weight = 3.323, bias = 4.312, loss = 0.045\n",
      "epoch 66/100  weight = 3.320, bias = 4.314, loss = 0.045\n",
      "epoch 67/100  weight = 3.318, bias = 4.315, loss = 0.045\n",
      "epoch 68/100  weight = 3.315, bias = 4.317, loss = 0.045\n",
      "epoch 69/100  weight = 3.313, bias = 4.318, loss = 0.045\n",
      "epoch 70/100  weight = 3.311, bias = 4.320, loss = 0.045\n",
      "epoch 71/100  weight = 3.308, bias = 4.321, loss = 0.045\n",
      "epoch 72/100  weight = 3.306, bias = 4.322, loss = 0.045\n",
      "epoch 73/100  weight = 3.304, bias = 4.324, loss = 0.045\n",
      "epoch 74/100  weight = 3.301, bias = 4.325, loss = 0.045\n",
      "epoch 75/100  weight = 3.299, bias = 4.326, loss = 0.044\n",
      "epoch 76/100  weight = 3.297, bias = 4.328, loss = 0.044\n",
      "epoch 77/100  weight = 3.295, bias = 4.329, loss = 0.044\n",
      "epoch 78/100  weight = 3.293, bias = 4.330, loss = 0.044\n",
      "epoch 79/100  weight = 3.291, bias = 4.332, loss = 0.044\n",
      "epoch 80/100  weight = 3.289, bias = 4.333, loss = 0.044\n",
      "epoch 81/100  weight = 3.287, bias = 4.334, loss = 0.044\n",
      "epoch 82/100  weight = 3.285, bias = 4.335, loss = 0.044\n",
      "epoch 83/100  weight = 3.283, bias = 4.336, loss = 0.044\n",
      "epoch 84/100  weight = 3.281, bias = 4.338, loss = 0.044\n",
      "epoch 85/100  weight = 3.279, bias = 4.339, loss = 0.044\n",
      "epoch 86/100  weight = 3.277, bias = 4.340, loss = 0.044\n",
      "epoch 87/100  weight = 3.275, bias = 4.341, loss = 0.044\n",
      "epoch 88/100  weight = 3.273, bias = 4.342, loss = 0.044\n",
      "epoch 89/100  weight = 3.271, bias = 4.343, loss = 0.044\n",
      "epoch 90/100  weight = 3.269, bias = 4.344, loss = 0.044\n",
      "epoch 91/100  weight = 3.267, bias = 4.346, loss = 0.044\n",
      "epoch 92/100  weight = 3.266, bias = 4.347, loss = 0.044\n",
      "epoch 93/100  weight = 3.264, bias = 4.348, loss = 0.044\n",
      "epoch 94/100  weight = 3.262, bias = 4.349, loss = 0.044\n",
      "epoch 95/100  weight = 3.260, bias = 4.350, loss = 0.044\n",
      "epoch 96/100  weight = 3.259, bias = 4.351, loss = 0.044\n",
      "epoch 97/100  weight = 3.257, bias = 4.352, loss = 0.044\n",
      "epoch 98/100  weight = 3.255, bias = 4.353, loss = 0.044\n",
      "epoch 99/100  weight = 3.254, bias = 4.354, loss = 0.044\n",
      "epoch 100/100  weight = 3.252, bias = 4.355, loss = 0.044\n"
     ]
    }
   ],
   "source": [
    "# gradient descent optimizer로 학습\n",
    "loss_list = []\n",
    "\n",
    "for epoch in range(max_epoch):\n",
    "    y_pred = w * X_train + b\n",
    "    \n",
    "    loss = (1/2 * (y_pred - y_train)**2).mean()   # 식 1에 해당\n",
    "    loss_list.append(loss)\n",
    "    if loss < 0.01:\n",
    "        break\n",
    "        \n",
    "    w = w - learning_rate * ((y_pred - y_train) * X_train).mean() # 식 2에 해당\n",
    "    b = b - learning_rate * (y_pred - y_train).mean() # 식 3에 해당\n",
    "    \n",
    "    print(f'epoch {epoch+1}/{max_epoch}  weight = {w:.3f}, bias = {b:.3f}, loss = {loss:.3f}')"
   ]
  },
  {
   "cell_type": "code",
   "execution_count": 6,
   "id": "8d9a014c",
   "metadata": {},
   "outputs": [
    {
     "data": {
      "image/png": "[encoded data removed]",
      "text/plain": [
       "<Figure size 720x576 with 1 Axes>"
      ]
     },
     "metadata": {
      "needs_background": "light"
     },
     "output_type": "display_data"
    }
   ],
   "source": [
    "plt.figure(figsize=(10,8))\n",
    "plt.plot(loss_list, label='loss')\n",
    "plt.legend()\n",
    "plt.show()"
   ]
  },
  {
   "cell_type": "code",
   "execution_count": 7,
   "id": "4ac4857f",
   "metadata": {},
   "outputs": [
    {
     "name": "stdout",
     "output_type": "stream",
     "text": [
      "weight: 3.25210195030535 bias: 4.354679022733574\n"
     ]
    }
   ],
   "source": [
    "# 모델이 찾은 weight와 bias 확인하기\n",
    "print('weight:', w, 'bias:', b)"
   ]
  },
  {
   "cell_type": "code",
   "execution_count": 8,
   "id": "d48309f1",
   "metadata": {},
   "outputs": [
    {
     "data": {
      "image/png": "[encoded data removed]",
      "text/plain": [
       "<Figure size 1080x720 with 1 Axes>"
      ]
     },
     "metadata": {
      "needs_background": "light"
     },
     "output_type": "display_data"
    }
   ],
   "source": [
    "plt.figure(figsize=(15,10))\n",
    "plt.scatter(X_train, y_train, label='data')\n",
    "plt.plot(X_train, X_train * w + b, label='model fitting')\n",
    "plt.legend(loc='best')\n",
    "plt.show()"
   ]
  },
  {
   "cell_type": "code",
   "execution_count": null,
   "id": "70f65466",
   "metadata": {},
   "outputs": [],
   "source": []
  }
 ],
 "metadata": {
  "kernelspec": {
   "display_name": "Python 3 (ipykernel)",
   "language": "python",
   "name": "python3"
  },
  "language_info": {
   "codemirror_mode": {
    "name": "ipython",
    "version": 3
   },
   "file_extension": ".py",
   "mimetype": "text/x-python",
   "name": "python",
   "nbconvert_exporter": "python",
   "pygments_lexer": "ipython3",
   "version": "3.8.12"
  }
 },
 "nbformat": 4,
 "nbformat_minor": 5
}
