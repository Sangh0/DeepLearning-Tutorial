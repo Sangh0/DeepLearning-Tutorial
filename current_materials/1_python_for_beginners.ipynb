{
  "nbformat": 4,
  "nbformat_minor": 0,
  "metadata": {
    "colab": {
      "provenance": [],
      "include_colab_link": true
    },
    "kernelspec": {
      "name": "python3",
      "display_name": "Python 3"
    },
    "language_info": {
      "name": "python"
    }
  },
  "cells": [
    {
      "cell_type": "markdown",
      "metadata": {
        "id": "view-in-github",
        "colab_type": "text"
      },
      "source": [
        "<a href=\"https://colab.research.google.com/github/Sangh0/DeepLearning-Tutorial/blob/main/current_materials/python_for_beginners.ipynb\" target=\"_parent\"><img src=\"https://colab.research.google.com/assets/colab-badge.svg\" alt=\"Open In Colab\"/></a>"
      ]
    },
    {
      "cell_type": "markdown",
      "source": [
        "# 파이썬 기초\n",
        "## contents\n",
        "- 1. string, integer, float 타입 변수 정의 및 할당\n",
        "- 2. 사칙연산\n",
        "- 3. 문자열 formatting\n",
        "- 4. 리스트, 딕셔너리 다루는 법\n",
        "- 5. if elif else 조건문\n",
        "- 6. for 문\n",
        "- 7. 함수 만들기\n",
        "- 8. class 만들기"
      ],
      "metadata": {
        "id": "QcCgItKfv8n6"
      }
    },
    {
      "cell_type": "code",
      "source": [
        "a, b, c = map(int, input().split())\n",
        "print((a + b) % c)\n",
        "print(((a % c) + (b % c)) % c)\n",
        "print((a * b) % C)\n",
        "print(((a % c) * (b % c)) % c)"
      ],
      "metadata": {
        "id": "T49XHhloXkyO"
      },
      "execution_count": null,
      "outputs": []
    },
    {
      "cell_type": "code",
      "source": [],
      "metadata": {
        "id": "RYoy-NR6Xk3a"
      },
      "execution_count": null,
      "outputs": []
    },
    {
      "cell_type": "markdown",
      "source": [
        "## 1. string, integer, float 타입 변수 정의 및 할당"
      ],
      "metadata": {
        "id": "P9WG1km9wfYL"
      }
    },
    {
      "cell_type": "code",
      "source": [
        "# 시작하기 전에 파이썬에서 주석처리를 하는 법을 알려드릴게요\n",
        "# 파이썬 주석 처리는 #을 이용하거나 ''' ''' 또는 \"\"\" \"\"\"을 이용해서 주석 처리를 할 수 있어요\n",
        "# 예시를 몇 개 보여드릴게요\n",
        "\n",
        "a = \"Hello world\" # Hello world라는 문자열을 a라는 변수에 할당을 해요\n",
        "print(a)\n",
        "\n",
        "# 그리고 코랩에서는 이 셀을 실행하기 위해선 각 셀의 왼쪽에 있는 세모로 되어 있는 실행 버튼을 누르거나 shift + enter를 치면 실행이 돼요\n",
        "\n",
        "\"\"\"\n",
        "아니면 이렇게 주석 처리를 할 수도 있어요\n",
        "주석 처리로 감싸진 부분은 파이썬에서 알아서 인식을 하지 않고 코드로 보지 않아요\n",
        "그래서 이 cell을 실행하면 오직 다음 두 줄의 코드만 인식해요\n",
        "\n",
        "a = \"Hello world\"\n",
        "print(a)\n",
        "\n",
        "\"\"\""
      ],
      "metadata": {
        "colab": {
          "base_uri": "https://localhost:8080/",
          "height": 54
        },
        "id": "I7Er7q4ev-vF",
        "outputId": "4fb1b7a8-7006-4bbc-f46a-b08b1e00a8c4"
      },
      "execution_count": null,
      "outputs": [
        {
          "output_type": "stream",
          "name": "stdout",
          "text": [
            "Hello world\n"
          ]
        },
        {
          "output_type": "execute_result",
          "data": {
            "text/plain": [
              "'\\n아니면 이렇게 주석 처리를 할 수도 있어요\\n주석 처리로 감싸진 부분은 파이썬에서 알아서 인식을 하지 않고 코드로 보지 않아요\\n그래서 이 cell을 실행하면 오직 다음 두 줄의 코드만 인식해요\\n\\na = \"Hello world\" \\nprint(a)\\n\\n'"
            ],
            "application/vnd.google.colaboratory.intrinsic+json": {
              "type": "string"
            }
          },
          "metadata": {},
          "execution_count": 1
        }
      ]
    },
    {
      "cell_type": "code",
      "source": [
        "# 이제 본격적으로 string, integer, float 변수 할당에 대해 알아볼게요\n",
        "a = \"문자열\" # 이 친구는 string 타입의 변수예요 한글로 써도 되고 영어로 써도 문자열로 인식해요\n",
        "b = 3 # 이 친구는 integer 타입의 변수예요\n",
        "c = 0.1 # 이 친구는 float 타입의 변수예요\n",
        "\n",
        "# 그래서 이 3개를 출력해보면 다음과 같이 출력돼요\n",
        "print(a, b, c)\n",
        "\n",
        "# 그리고 각 변수의 타입을 알아보기 위해선 type()라는 코드로 감싸주면 돼요\n",
        "print(type(a), type(b), type(c))"
      ],
      "metadata": {
        "colab": {
          "base_uri": "https://localhost:8080/"
        },
        "id": "dMtta6xAv-1z",
        "outputId": "2e76dd62-be8f-4721-8642-756bfaac6712"
      },
      "execution_count": null,
      "outputs": [
        {
          "output_type": "stream",
          "name": "stdout",
          "text": [
            "문자열 3 0.1\n",
            "<class 'str'> <class 'int'> <class 'float'>\n"
          ]
        }
      ]
    },
    {
      "cell_type": "markdown",
      "source": [
        "## 2. 사칙 연산"
      ],
      "metadata": {
        "id": "rxucuxVOxwt0"
      }
    },
    {
      "cell_type": "code",
      "source": [
        "# 이제 수의 사칙연산에 대해 알아볼게요\n",
        "a = 7\n",
        "b = 3\n",
        "print(a + b) # 더하기"
      ],
      "metadata": {
        "colab": {
          "base_uri": "https://localhost:8080/"
        },
        "id": "qIGrFFMiv-4M",
        "outputId": "48bb5696-75ac-4334-e647-554a5a1628ee"
      },
      "execution_count": null,
      "outputs": [
        {
          "output_type": "stream",
          "name": "stdout",
          "text": [
            "10\n"
          ]
        }
      ]
    },
    {
      "cell_type": "code",
      "source": [
        "print(a - b) # 빼기"
      ],
      "metadata": {
        "colab": {
          "base_uri": "https://localhost:8080/"
        },
        "id": "kGCLpzENv-7I",
        "outputId": "23f8f05c-9a77-484e-bcca-4342f1a08f06"
      },
      "execution_count": null,
      "outputs": [
        {
          "output_type": "stream",
          "name": "stdout",
          "text": [
            "4\n"
          ]
        }
      ]
    },
    {
      "cell_type": "code",
      "source": [
        "print(a / b) # 나누기"
      ],
      "metadata": {
        "colab": {
          "base_uri": "https://localhost:8080/"
        },
        "id": "mibrOX0Tx50d",
        "outputId": "97d474b7-3d90-49b3-a865-aa7f805de3a1"
      },
      "execution_count": null,
      "outputs": [
        {
          "output_type": "stream",
          "name": "stdout",
          "text": [
            "2.3333333333333335\n"
          ]
        }
      ]
    },
    {
      "cell_type": "code",
      "source": [
        "print(a * b) # 곱하기"
      ],
      "metadata": {
        "colab": {
          "base_uri": "https://localhost:8080/"
        },
        "id": "SjVeBhjux7SY",
        "outputId": "3b0e7de8-706f-4d0f-cf08-90a1c1d5ec40"
      },
      "execution_count": null,
      "outputs": [
        {
          "output_type": "stream",
          "name": "stdout",
          "text": [
            "21\n"
          ]
        }
      ]
    },
    {
      "cell_type": "code",
      "source": [
        "# 그리고 나누기하는 과정에서 몫과 나머지를 구하는 법을 알아볼게요\n",
        "print(a // b) # 몫 구하기"
      ],
      "metadata": {
        "colab": {
          "base_uri": "https://localhost:8080/"
        },
        "id": "sQEvEtJHx8h0",
        "outputId": "ce91f87a-ab38-46ee-a43e-c44b83c344df"
      },
      "execution_count": null,
      "outputs": [
        {
          "output_type": "stream",
          "name": "stdout",
          "text": [
            "2\n"
          ]
        }
      ]
    },
    {
      "cell_type": "code",
      "source": [
        "print(a % b) # 나머지 구하기"
      ],
      "metadata": {
        "colab": {
          "base_uri": "https://localhost:8080/"
        },
        "id": "8Cth3twtyCmj",
        "outputId": "22dd0bfb-278a-4648-e386-a199e96f001e"
      },
      "execution_count": null,
      "outputs": [
        {
          "output_type": "stream",
          "name": "stdout",
          "text": [
            "1\n"
          ]
        }
      ]
    },
    {
      "cell_type": "code",
      "source": [
        "# float과 int 그리고 float과 float으로도 사칙연산을 할 수 있어요\n",
        "\n",
        "# float과 int 사칙연산\n",
        "a = 0.1\n",
        "b = 3\n",
        "\n",
        "print(\"더하기: \", a + b, \"빼기: \", a - b, \"곱하기: \", a * b, \"나누기: \", a / b)"
      ],
      "metadata": {
        "colab": {
          "base_uri": "https://localhost:8080/"
        },
        "id": "5EtfKbORyN3y",
        "outputId": "5373c606-033d-4cc2-8543-018b6f546dca"
      },
      "execution_count": null,
      "outputs": [
        {
          "output_type": "stream",
          "name": "stdout",
          "text": [
            "더하기:  3.1 빼기:  -2.9 곱하기:  0.30000000000000004 나누기:  0.03333333333333333\n"
          ]
        }
      ]
    },
    {
      "cell_type": "code",
      "source": [
        "# float과 float 사칙연산\n",
        "a = 0.1\n",
        "b = 0.45\n",
        "\n",
        "print(\"더하기: \", a + b, \"빼기: \", a - b, \"곱하기: \", a * b, \"나누기: \", a / b)"
      ],
      "metadata": {
        "colab": {
          "base_uri": "https://localhost:8080/"
        },
        "id": "VgHUjPLxyGYb",
        "outputId": "956b2efe-ed5b-497d-ff2f-8fed959ac131"
      },
      "execution_count": null,
      "outputs": [
        {
          "output_type": "stream",
          "name": "stdout",
          "text": [
            "더하기:  0.55 빼기:  -0.35 곱하기:  0.045000000000000005 나누기:  0.22222222222222224\n"
          ]
        }
      ]
    },
    {
      "cell_type": "code",
      "source": [
        "# 문자열과 int or float 타입끼리는 사칙 연산이 당연히 안되고 에러가 발생해요\n",
        "a = \"string\"\n",
        "b = 3\n",
        "\n",
        "print(a + b)"
      ],
      "metadata": {
        "colab": {
          "base_uri": "https://localhost:8080/",
          "height": 180
        },
        "id": "X0qOlVLhyra-",
        "outputId": "a949dbbe-8819-4b2c-a22b-45ae767565c8"
      },
      "execution_count": null,
      "outputs": [
        {
          "output_type": "error",
          "ename": "TypeError",
          "evalue": "can only concatenate str (not \"int\") to str",
          "traceback": [
            "\u001b[0;31m---------------------------------------------------------------------------\u001b[0m",
            "\u001b[0;31mTypeError\u001b[0m                                 Traceback (most recent call last)",
            "\u001b[0;32m<ipython-input-11-88dbf921858f>\u001b[0m in \u001b[0;36m<cell line: 5>\u001b[0;34m()\u001b[0m\n\u001b[1;32m      3\u001b[0m \u001b[0mb\u001b[0m \u001b[0;34m=\u001b[0m \u001b[0;36m3\u001b[0m\u001b[0;34m\u001b[0m\u001b[0;34m\u001b[0m\u001b[0m\n\u001b[1;32m      4\u001b[0m \u001b[0;34m\u001b[0m\u001b[0m\n\u001b[0;32m----> 5\u001b[0;31m \u001b[0mprint\u001b[0m\u001b[0;34m(\u001b[0m\u001b[0ma\u001b[0m \u001b[0;34m+\u001b[0m \u001b[0mb\u001b[0m\u001b[0;34m)\u001b[0m\u001b[0;34m\u001b[0m\u001b[0;34m\u001b[0m\u001b[0m\n\u001b[0m",
            "\u001b[0;31mTypeError\u001b[0m: can only concatenate str (not \"int\") to str"
          ]
        }
      ]
    },
    {
      "cell_type": "code",
      "source": [
        "# 문자열과 문자열끼리 더하는 건 가능해요\n",
        "a = \"Hello, My name is \"\n",
        "b = \"Sangho\"\n",
        "print(a + b)"
      ],
      "metadata": {
        "colab": {
          "base_uri": "https://localhost:8080/"
        },
        "id": "l3s5cut-yxA5",
        "outputId": "ab6205d6-aaeb-4e53-854f-55a413c919eb"
      },
      "execution_count": null,
      "outputs": [
        {
          "output_type": "stream",
          "name": "stdout",
          "text": [
            "Hello, My name is Sangho\n"
          ]
        }
      ]
    },
    {
      "cell_type": "markdown",
      "source": [
        "## 3. 문자열 fotmatting 방법"
      ],
      "metadata": {
        "id": "RdajvKLCzBFg"
      }
    },
    {
      "cell_type": "code",
      "source": [
        "# 설명보다 예를 하나 보여드릴게요\n",
        "name = \"Sangho\"\n",
        "age = 27\n",
        "\n",
        "print(\"{}의 나이는 {}세다\".format(name, age)) # 이렇게 하는 방법이 있고요"
      ],
      "metadata": {
        "colab": {
          "base_uri": "https://localhost:8080/"
        },
        "id": "yI3iLA44yxIJ",
        "outputId": "2aaadbea-fcbb-4b0b-bc9b-e4a4b8b46c6c"
      },
      "execution_count": null,
      "outputs": [
        {
          "output_type": "stream",
          "name": "stdout",
          "text": [
            "Sangho의 나이는 27세다\n"
          ]
        }
      ]
    },
    {
      "cell_type": "code",
      "source": [
        "print(f\"{name}의 나이는 {age}세다\") # 이렇게 하는 방법이 있어요\n",
        "\n",
        "# 문자열 사이에 dynamic하게 변수를 바꾸면서 출력할 일이 있다면 formatting을 이용하는 것이 좋아요"
      ],
      "metadata": {
        "colab": {
          "base_uri": "https://localhost:8080/"
        },
        "id": "ZvXGH412zgFx",
        "outputId": "baf07230-9913-4442-fb0f-1e863f037006"
      },
      "execution_count": null,
      "outputs": [
        {
          "output_type": "stream",
          "name": "stdout",
          "text": [
            "Sangho의 나이는 27세다\n"
          ]
        }
      ]
    },
    {
      "cell_type": "code",
      "source": [
        "# 아니면 다음과 같이 formatting 문자열을 따로 정의하고 출력하는 것도 돼요\n",
        "name_and_age = f\"{name}의 나이는 {age}세다\"\n",
        "print(name_and_age)"
      ],
      "metadata": {
        "colab": {
          "base_uri": "https://localhost:8080/"
        },
        "id": "XMaK-tLfzmhC",
        "outputId": "b1476a5f-d83e-4a5d-9e40-3b36fb45f55f"
      },
      "execution_count": null,
      "outputs": [
        {
          "output_type": "stream",
          "name": "stdout",
          "text": [
            "Sangho의 나이는 27세다\n"
          ]
        }
      ]
    },
    {
      "cell_type": "markdown",
      "source": [
        "## 4. 리스트, 딕셔너리 다루는 법"
      ],
      "metadata": {
        "id": "NEVsOow4z6sx"
      }
    },
    {
      "cell_type": "code",
      "source": [
        "# 먼저 리스트부터 살펴볼거고 리스트는 다음과 같이 정의할 수 있어요\n",
        "a = [1, 2, 3, 4, 5]\n",
        "print(a)"
      ],
      "metadata": {
        "colab": {
          "base_uri": "https://localhost:8080/"
        },
        "id": "G2zpwIrrz4YB",
        "outputId": "5fe85b87-a4be-4890-ed12-c40ec5c69171"
      },
      "execution_count": null,
      "outputs": [
        {
          "output_type": "stream",
          "name": "stdout",
          "text": [
            "[1, 2, 3, 4, 5]\n"
          ]
        }
      ]
    },
    {
      "cell_type": "code",
      "source": [
        "# 리스트에는 정수 뿐만 아니라 소수, 문자열 등 다양한 데이터 타입을 넣을 수 있어요\n",
        "b = [0.1, 0.2, 0.3, \"float\", 1, 3, 5, 10, \"integer\", \"stirng\"]\n",
        "print(b)"
      ],
      "metadata": {
        "colab": {
          "base_uri": "https://localhost:8080/"
        },
        "id": "N0IIE-ib0GwL",
        "outputId": "84e12062-60a1-48cb-e558-e0b10b850c87"
      },
      "execution_count": null,
      "outputs": [
        {
          "output_type": "stream",
          "name": "stdout",
          "text": [
            "[0.1, 0.2, 0.3, 'float', 1, 3, 5, 10, 'integer', 'stirng']\n"
          ]
        }
      ]
    },
    {
      "cell_type": "code",
      "source": [
        "# 리스트는 원소를 뽑거나 인덱싱을 할 수 있어요\n",
        "# 먼저, 우리는 순서를 1, 2, 3, 4, ... 이렇게 알고 있는 반면\n",
        "# 파이썬에서는 1이 아닌 0부터 시작을 해요\n",
        "# 즉, 우리 입장에서 첫 번째 원소를 뽑아내고 싶다면 파이썬에서는 0번째 원소를 뽑아야 해요\n",
        "# 예를 하나 보여드릴게요\n",
        "a = [10, 20, 30, 40, 50]\n",
        "# 첫 번째 원소 뽑기\n",
        "print(a[0])"
      ],
      "metadata": {
        "colab": {
          "base_uri": "https://localhost:8080/"
        },
        "id": "i7DXACMs0StW",
        "outputId": "507d6f55-2f42-4963-e159-5ad7a8b7c48d"
      },
      "execution_count": null,
      "outputs": [
        {
          "output_type": "stream",
          "name": "stdout",
          "text": [
            "10\n"
          ]
        }
      ]
    },
    {
      "cell_type": "code",
      "source": [
        "# 두 번째 원소 뽑기\n",
        "print(a[1])"
      ],
      "metadata": {
        "colab": {
          "base_uri": "https://localhost:8080/"
        },
        "id": "ufJw5ymb0_eK",
        "outputId": "165920d2-171d-4f5c-abe1-9be10a5ac16b"
      },
      "execution_count": null,
      "outputs": [
        {
          "output_type": "stream",
          "name": "stdout",
          "text": [
            "20\n"
          ]
        }
      ]
    },
    {
      "cell_type": "code",
      "source": [
        "# 세 번째 원소 뽑기\n",
        "print(a[2])"
      ],
      "metadata": {
        "colab": {
          "base_uri": "https://localhost:8080/"
        },
        "id": "Hm3LZeUW1Cxx",
        "outputId": "b200da8e-016e-49bc-d216-a34fb56563e3"
      },
      "execution_count": null,
      "outputs": [
        {
          "output_type": "stream",
          "name": "stdout",
          "text": [
            "30\n"
          ]
        }
      ]
    },
    {
      "cell_type": "code",
      "source": [
        "# 위처럼 우리 입장에서 n번째 원소를 뽑고 싶다면 파이썬에서는 n-1이라는 수를 넣으면 돼요\n",
        "# 또한 리스트 안에 있는 원소의 갯수가 몇 개인지 모르는 상태에서 마지막 원소를 뽑고 싶을 때는 -1을 사용하면 돼요\n",
        "# 마지막 원소 뽑기\n",
        "print(a[-1])"
      ],
      "metadata": {
        "colab": {
          "base_uri": "https://localhost:8080/"
        },
        "id": "8RdPeqTc1Ft-",
        "outputId": "7a67e48a-4fe4-4f22-c72c-671c47965b00"
      },
      "execution_count": null,
      "outputs": [
        {
          "output_type": "stream",
          "name": "stdout",
          "text": [
            "50\n"
          ]
        }
      ]
    },
    {
      "cell_type": "code",
      "source": [
        "# 여기까지 리스트의 원소를 하나씩 뽑는 방법에 대해 살펴봤고요\n",
        "# 이제 여러 개의 원소를 뽑는 법을 살펴볼게요 얘를 인덱싱이라 해요\n",
        "a = [1, 2, 3, 4, 5, 6, 7, 8, 9, 10]\n",
        "\n",
        "print(a[:3]) # 0번째부터 2번째 원소까지 뽑기 즉, 1, 2, 3"
      ],
      "metadata": {
        "colab": {
          "base_uri": "https://localhost:8080/"
        },
        "id": "HmcVZ0wg1Tj0",
        "outputId": "a54efbd2-9438-49a7-8009-ef04109053a3"
      },
      "execution_count": null,
      "outputs": [
        {
          "output_type": "stream",
          "name": "stdout",
          "text": [
            "[1, 2, 3]\n"
          ]
        }
      ]
    },
    {
      "cell_type": "code",
      "source": [
        "# 4번째부터 5번째 원소 뽑기\n",
        "print(a[4:6])"
      ],
      "metadata": {
        "colab": {
          "base_uri": "https://localhost:8080/"
        },
        "id": "7EpC0PTD1izw",
        "outputId": "9734374d-fdd8-48c1-99b0-287b2d3a75af"
      },
      "execution_count": null,
      "outputs": [
        {
          "output_type": "stream",
          "name": "stdout",
          "text": [
            "[5, 6]\n"
          ]
        }
      ]
    },
    {
      "cell_type": "code",
      "source": [
        "# 6번째부터 마지막 원소 뽑기\n",
        "print(a[6:])"
      ],
      "metadata": {
        "colab": {
          "base_uri": "https://localhost:8080/"
        },
        "id": "E4ZtESAX1sDR",
        "outputId": "00abca3b-c745-4df9-f387-7292b7703d2c"
      },
      "execution_count": null,
      "outputs": [
        {
          "output_type": "stream",
          "name": "stdout",
          "text": [
            "[7, 8, 9, 10]\n"
          ]
        }
      ]
    },
    {
      "cell_type": "code",
      "source": [
        "# 이제 딕셔너리 다루는 법에 대해 살펴볼게요\n",
        "aaa = {\n",
        "    \"a\": 10,\n",
        "    \"b\": 20,\n",
        "    \"c\": 30,\n",
        "    \"d\": 40,\n",
        "}\n",
        "print(aaa)"
      ],
      "metadata": {
        "colab": {
          "base_uri": "https://localhost:8080/"
        },
        "id": "LR8H5Adi1y9b",
        "outputId": "acd0fee5-4620-48e0-d057-2f62b39a2de0"
      },
      "execution_count": null,
      "outputs": [
        {
          "output_type": "stream",
          "name": "stdout",
          "text": [
            "{'a': 10, 'b': 20, 'c': 30, 'd': 40}\n"
          ]
        }
      ]
    },
    {
      "cell_type": "code",
      "source": [
        "# 위에서 정의한 aaa라는 딕셔너리는 a, b, c, d라는 key와 10, 20, 30, 40이라는 value를 갖고 있어요\n",
        "# 즉, 왼쪽 컬럼들은 key, 오른쪽 컬럼들은 value라고 얘기를 해요\n",
        "# 이제 각 key를 이용해서 value를 어떻게 얻는지 살펴볼게요\n",
        "print(aaa[\"a\"])\n",
        "# a라는 key에 접근해 10이라는 value를 얻어요"
      ],
      "metadata": {
        "colab": {
          "base_uri": "https://localhost:8080/"
        },
        "id": "fIQI1nzk32gx",
        "outputId": "281f1b4a-df11-4b29-af00-cd2dc4098b1e"
      },
      "execution_count": null,
      "outputs": [
        {
          "output_type": "stream",
          "name": "stdout",
          "text": [
            "10\n"
          ]
        }
      ]
    },
    {
      "cell_type": "code",
      "source": [
        "print(aaa[\"c\"])\n",
        "# c라는 key에 접근해 30이라는 value를 얻어요"
      ],
      "metadata": {
        "colab": {
          "base_uri": "https://localhost:8080/"
        },
        "id": "rdrs4ZML-XQe",
        "outputId": "164630d1-f4df-4f47-9631-7941d1cc962e"
      },
      "execution_count": null,
      "outputs": [
        {
          "output_type": "stream",
          "name": "stdout",
          "text": [
            "30\n"
          ]
        }
      ]
    },
    {
      "cell_type": "code",
      "source": [
        "# 딕셔너리에 key, value를 추가하고 싶다면 다음과 같이 코드를 짜면 돼요\n",
        "aaa[\"e\"] = 50\n",
        "\n",
        "print(aaa)"
      ],
      "metadata": {
        "colab": {
          "base_uri": "https://localhost:8080/"
        },
        "id": "30Wnagob-ZFW",
        "outputId": "11594f12-93b3-41fb-88a2-bbc03bd84062"
      },
      "execution_count": null,
      "outputs": [
        {
          "output_type": "stream",
          "name": "stdout",
          "text": [
            "{'a': 10, 'b': 20, 'c': 30, 'd': 40, 'e': 50}\n"
          ]
        }
      ]
    },
    {
      "cell_type": "markdown",
      "source": [
        "## 5. if elif else 조건문"
      ],
      "metadata": {
        "id": "HphPvbYk-qbO"
      }
    },
    {
      "cell_type": "code",
      "source": [
        "# 여기서도 역시, 설명보단 예제를 먼저 살펴볼게요\n",
        "\n",
        "a = 30\n",
        "\n",
        "if a < 100:\n",
        "    print(\"100 미만\")"
      ],
      "metadata": {
        "colab": {
          "base_uri": "https://localhost:8080/"
        },
        "id": "_zOIDHBt-nVH",
        "outputId": "0bf926a2-6e23-444f-e811-4085163dc8b0"
      },
      "execution_count": null,
      "outputs": [
        {
          "output_type": "stream",
          "name": "stdout",
          "text": [
            "100 미만\n"
          ]
        }
      ]
    },
    {
      "cell_type": "code",
      "source": [
        "# 위 코드를 보면 a는 30이라는 변수를 정의했고 if 조건문을 통해 a가 100 미만이라면 \"100 미만\"이라는 문자열을 출력하도록 했어요\n",
        "# 여기에 elif와 else를 어떻게 쓰는지 살펴볼게요\n",
        "\n",
        "a = 30\n",
        "\n",
        "if a < 50:\n",
        "    print(\"50 미만\")\n",
        "elif a < 100:\n",
        "    print(\"50 이상 100 미만\")\n",
        "else:\n",
        "    print(\"100 초과\")\n",
        "\n",
        "# 위의 코드처럼 if, elif, else를 작성한 후에는 항상 :를 붙여야 돼요\n",
        "# 그리고 if와 elif에는 항상 옆에 조건을 달아줘야 하고 else는 달지 않아요"
      ],
      "metadata": {
        "colab": {
          "base_uri": "https://localhost:8080/"
        },
        "id": "N0TgFZ5u-03b",
        "outputId": "d7c252fb-6f94-4243-bf5f-594247b4e760"
      },
      "execution_count": null,
      "outputs": [
        {
          "output_type": "stream",
          "name": "stdout",
          "text": [
            "50 미만\n"
          ]
        }
      ]
    },
    {
      "cell_type": "code",
      "source": [
        "# 예제를 하나 살펴볼게요\n",
        "\n",
        "GPA = 4.1\n",
        "\n",
        "# 만약 평점이 4.5라면 A+\n",
        "if GPA == 4.5:\n",
        "    print(\"A+\")\n",
        "# 만약 평점이 4.0과 4.5 사이라면 A0\n",
        "elif 4.0 <= GPA < 4.5:\n",
        "    print(\"A0\")\n",
        "elif 3.5 <= GPA < 4.0:\n",
        "    print(\"B+\")\n",
        "elif 3.0 <= GPA < 3.5:\n",
        "    print(\"B0\")\n",
        "elif 2.5 <= GPA < 3.0:\n",
        "    print(\"C+\")\n",
        "\n",
        "else:\n",
        "    print(\"F\")\n",
        "\n",
        "# 이런 식으로 if elif else 구문을 이용할 수 있어요"
      ],
      "metadata": {
        "colab": {
          "base_uri": "https://localhost:8080/"
        },
        "id": "0WF0QDd2_Oxq",
        "outputId": "6b9e41c9-de4d-4bf7-f7e1-cf5e3a786ea4"
      },
      "execution_count": null,
      "outputs": [
        {
          "output_type": "stream",
          "name": "stdout",
          "text": [
            "A0\n"
          ]
        }
      ]
    },
    {
      "cell_type": "markdown",
      "source": [
        "## 6. for 문"
      ],
      "metadata": {
        "id": "GoaATRHDAhMe"
      }
    },
    {
      "cell_type": "code",
      "source": [
        "\"\"\"\n",
        "for문은 반복문이라고도 해요\n",
        "예를 들어서 아래와 같은 코드가 있다고 해볼까요\n",
        "\"\"\"\n",
        "\n",
        "print(1)\n",
        "print(2)\n",
        "print(3)\n",
        "print(4)\n",
        "print(5)\n",
        "print(6)\n",
        "print(7)\n",
        "print(8)\n",
        "print(9)\n",
        "print(10)"
      ],
      "metadata": {
        "colab": {
          "base_uri": "https://localhost:8080/"
        },
        "id": "kifj8m7O_4pS",
        "outputId": "be5e4dbe-fa8d-442b-82c0-01a7a87dd97c"
      },
      "execution_count": null,
      "outputs": [
        {
          "output_type": "stream",
          "name": "stdout",
          "text": [
            "1\n",
            "2\n",
            "3\n",
            "4\n",
            "5\n",
            "6\n",
            "7\n",
            "8\n",
            "9\n",
            "10\n"
          ]
        }
      ]
    },
    {
      "cell_type": "code",
      "source": [
        "# 위 코드의 문제점은 숫자만 다를 뿐 똑같은 코드를 반복해서 타이핑해야 하는 것이 문제예요\n",
        "# 그래서 이는 for 반복문을 이용해 해결할 수 있어요\n",
        "for i in range(1, 11):\n",
        "    print(i)\n",
        "\n",
        "# 그러면 10줄의 코드를 단 2줄로 표현할 수 있어요"
      ],
      "metadata": {
        "colab": {
          "base_uri": "https://localhost:8080/"
        },
        "id": "4spUMbWrAznt",
        "outputId": "5eb5b78e-4508-4673-c464-e5f187e66a2a"
      },
      "execution_count": null,
      "outputs": [
        {
          "output_type": "stream",
          "name": "stdout",
          "text": [
            "1\n",
            "2\n",
            "3\n",
            "4\n",
            "5\n",
            "6\n",
            "7\n",
            "8\n",
            "9\n",
            "10\n"
          ]
        }
      ]
    },
    {
      "cell_type": "code",
      "source": [
        "# 리스트를 이용해 for문을 이용할 수도 있어요\n",
        "a = [\"첫 번째\", \"두 번째\", \"세 번째\", \"네 번째\", \"다섯 번째\", \"여섯 번째\"]\n",
        "\n",
        "for x in a:\n",
        "    print(x)\n",
        "\n",
        "# 이렇게 하면 리스트 모든 원소 하나씩 접근하되 해당 원소의 변수명을 x라고 정의하고 x를 출력하라는 뜻이예요"
      ],
      "metadata": {
        "colab": {
          "base_uri": "https://localhost:8080/"
        },
        "id": "kaEzhK9dA7Zd",
        "outputId": "a86daed3-ccd2-408b-9f35-81a9d490f664"
      },
      "execution_count": null,
      "outputs": [
        {
          "output_type": "stream",
          "name": "stdout",
          "text": [
            "첫 번째\n",
            "두 번째\n",
            "세 번째\n",
            "네 번째\n",
            "다섯 번째\n",
            "여섯 번째\n"
          ]
        }
      ]
    },
    {
      "cell_type": "code",
      "source": [
        "# 예를 들어 구구단 2단을 출력하는 코드를 짜볼게요\n",
        "\n",
        "n = 2\n",
        "\n",
        "for i in range(1, 10):\n",
        "    print(f\"{n} x {i} = {n * i}\")\n",
        "\n",
        "# 이런 식으로 formatting과 함께 적절히 섞어서 사용할 수 있어요"
      ],
      "metadata": {
        "colab": {
          "base_uri": "https://localhost:8080/"
        },
        "id": "T1xoTs8IBKLL",
        "outputId": "fe0723f8-f85f-45b8-de25-d3f0061e1172"
      },
      "execution_count": null,
      "outputs": [
        {
          "output_type": "stream",
          "name": "stdout",
          "text": [
            "2 x 1 = 2\n",
            "2 x 2 = 4\n",
            "2 x 3 = 6\n",
            "2 x 4 = 8\n",
            "2 x 5 = 10\n",
            "2 x 6 = 12\n",
            "2 x 7 = 14\n",
            "2 x 8 = 16\n",
            "2 x 9 = 18\n"
          ]
        }
      ]
    },
    {
      "cell_type": "markdown",
      "source": [
        "## 7. 함수 만들기"
      ],
      "metadata": {
        "id": "wJe7g_qeBjs3"
      }
    },
    {
      "cell_type": "code",
      "source": [
        "# 함수는 똑같은 코드 또는 비슷한 프로세스를 가지는 코드를 여러 개 짜야할 때 함수 하나 만들어놓고 실행하면 편해요\n",
        "def plus1(a, b):\n",
        "    return a + b\n",
        "\n",
        "def plus2(a, b):\n",
        "    c = a + b\n",
        "    return c\n",
        "\n",
        "print(plus1(3, 4))\n",
        "print(plus2(3, 4))"
      ],
      "metadata": {
        "colab": {
          "base_uri": "https://localhost:8080/"
        },
        "id": "ouCie9RdBdyw",
        "outputId": "56b299bc-547d-4863-8aec-0e62d62d180e"
      },
      "execution_count": null,
      "outputs": [
        {
          "output_type": "stream",
          "name": "stdout",
          "text": [
            "7\n",
            "7\n"
          ]
        }
      ]
    },
    {
      "cell_type": "code",
      "source": [
        "\"\"\"\n",
        "위처럼 plus1, plus2 두 개의 함수를 만들었어요\n",
        "두 함수 모두 a, b를 파라미터로 하며 2개의 인풋을 받아요\n",
        "그리고 a와 b를 더하고 반환해줘요\n",
        "둘 중 어떻게 코드를 구성해도 입력과 출력은 똑같아요\n",
        "\n",
        "다른 예시를 들어볼게요\n",
        "\"\"\"\n",
        "\n",
        "def 사칙연산(a, b, mode=\"plus\"):\n",
        "    if mode == \"plus\":\n",
        "        c = a + b\n",
        "    elif mode == \"minus\":\n",
        "        c = a - b\n",
        "    elif mode == \"multiply\":\n",
        "        c = a * b\n",
        "    elif mode == \"divide\":\n",
        "        c = a / b\n",
        "    else:\n",
        "        c = \"None\"\n",
        "\n",
        "    return c\n",
        "\n",
        "plus_result = 사칙연산(a=3, b=4, mode=\"plus\")\n",
        "minus_result = 사칙연산(a=3, b=4, mode=\"minus\")\n",
        "multiply_result = 사칙연산(a=3, b=4, mode=\"multiply\")\n",
        "divide_result = 사칙연산(a=3, b=4, mode=\"divide\")\n",
        "print(plus_result, minus_result, multiply_result, divide_result)"
      ],
      "metadata": {
        "colab": {
          "base_uri": "https://localhost:8080/"
        },
        "id": "cR3PhNs7XetZ",
        "outputId": "b1ed4418-094e-48e0-c5a3-911a77fd5c09"
      },
      "execution_count": null,
      "outputs": [
        {
          "output_type": "stream",
          "name": "stdout",
          "text": [
            "7 -1 12 0.75\n"
          ]
        }
      ]
    },
    {
      "cell_type": "code",
      "source": [
        "\"\"\"\n",
        "위처럼 if elif else 조건문을 활용해 mode를 더하기, 빼기, 곱하기, 나누기 중 하나로 인풋을 받고 a, b를 숫자로 받아 함수를 만들 수 있어요\n",
        "\n",
        "이번엔 구구단을 출력해주는 함수를 만들어볼게요\n",
        "\"\"\"\n",
        "\n",
        "def 구구단(N):\n",
        "    print(f\"{N}단\")\n",
        "    for i in range(1, 10):\n",
        "        print(f\"{N} x {i} = {N * i}\")\n",
        "\n",
        "구구단(5)"
      ],
      "metadata": {
        "colab": {
          "base_uri": "https://localhost:8080/"
        },
        "id": "J5IRNqh8YLN8",
        "outputId": "b71d8102-2f78-4fa9-ecf4-b6167a179998"
      },
      "execution_count": null,
      "outputs": [
        {
          "output_type": "stream",
          "name": "stdout",
          "text": [
            "5단\n",
            "5 x 1 = 5\n",
            "5 x 2 = 10\n",
            "5 x 3 = 15\n",
            "5 x 4 = 20\n",
            "5 x 5 = 25\n",
            "5 x 6 = 30\n",
            "5 x 7 = 35\n",
            "5 x 8 = 40\n",
            "5 x 9 = 45\n"
          ]
        }
      ]
    },
    {
      "cell_type": "markdown",
      "source": [
        "## 8. class 만들기"
      ],
      "metadata": {
        "id": "V4ryFq_wDC1r"
      }
    },
    {
      "cell_type": "code",
      "source": [
        "\"\"\"\n",
        "파이썬 뿐만 아니라 모든 프로그래밍 언어는 객체 지향으로 코드를 구축해야 굉장히 편리해요\n",
        "\n",
        "객체 지향이 무엇인지 예를 하나 들어 드릴게요\n",
        "어떤 프로세스를 수행하는 데 있어 a, b, c, d라는 과정이 필요하다고 하죠\n",
        "그래서 이를 하나의 통 코드로 구현했다고 칩시다\n",
        "그런데 갑자기 b라는 과정을 e로 바꿔야 할 때가 있다면 코드를 전부 다 갈아치워야 해요\n",
        "그래서 a 따로, b 따로, c, d 따로 모두 \"객체\"로 구현해놓고 이들이 서로 맞물려 하나의 프로세스로 돌아갈 수 있게끔 하는 것이 가장 효율적이예요\n",
        "즉, 각각을 모듈로 구현해 놓는거죠\n",
        "그렇다면 나중에 a, b, c, d 중 하나를 e로 갈아치워야 할 때가 오면 딱 해당 \"객체\" 부분만 바꿔 끼울 수 있게끔 도와주는 것이 \"class\"입니다\n",
        "\n",
        "자동차 조립을 비유로 들면 이해가 쉬우실 거예요\n",
        "자동차를 만들 때 통 알루미늄을 갖고 다듬어서 하나의 바디로 만드는 것보다는\n",
        "A B C 필러, 전면 범퍼, 후면 범퍼, 보닛, 도어, 전면 휀더, 후면 휀더, 타이어, 휠, 핸들, 콘솔, 디스플레이 등을 각각 모듈로 만들어놓고 나중에 한 번에 합치는 것이 더 효율적이듯이요\n",
        "그래야 사고나서 수리할 때도 바디 프레임 또는 내장재 전부 갈아치우는 것이 아닌 찌그러진 또는 고장난 부분의 모듈만 갈아 끼울 수 있도록이요\n",
        "\"\"\"\n",
        "\n",
        "# 클래스는 다음과 같이 정의할 수 있어요\n",
        "# 이 파트 역시, 예시 코드를 먼저 보여드리고 설명을 시작하겠습니다\n",
        "\n",
        "class PersonInfo: # 클래스\n",
        "    def __init__(self, name, age, gender, height):\n",
        "        self.age = age\n",
        "        self.name = name\n",
        "        self.gender = gender\n",
        "        self.height = height\n",
        "\n",
        "    def name_info(self):\n",
        "        return self.name\n",
        "\n",
        "    def age_info(self):\n",
        "        return self.age\n",
        "\n",
        "    def gender_info(self):\n",
        "        return self.gender\n",
        "\n",
        "    def height_info(self):\n",
        "        return self.height\n",
        "\n",
        "\n",
        "# 위와 같이 이름, 나이, 성별, 키 등 사람의 정보를 담는 클래스를 정의할게요\n",
        "sangho_info = PersonInfo(name=\"sangho\", age=25, gender=\"man\", height=\"178cm\")\n",
        "\n",
        "# 나이를 출력하고 싶다면\n",
        "sangho_age = sangho_info.age_info()\n",
        "print(sangho_age)\n",
        "\n",
        "# 키를 출력하고 싶다면\n",
        "sangho_height = sangho_info.height_info()\n",
        "print(sangho_height)"
      ],
      "metadata": {
        "colab": {
          "base_uri": "https://localhost:8080/"
        },
        "id": "c7enfZLHYyRP",
        "outputId": "c14806b7-c51c-47bf-c4e4-c52353e4af36"
      },
      "execution_count": null,
      "outputs": [
        {
          "output_type": "stream",
          "name": "stdout",
          "text": [
            "25\n",
            "178cm\n"
          ]
        }
      ]
    },
    {
      "cell_type": "code",
      "source": [
        "\"\"\"\n",
        "이제 설명을 해 드릴게요\n",
        "class를 정의할 때는 안에 원하는 대로 함수를 정의하게 되고 각 함수를 메소드라고 불러요\n",
        "보통 __init__ 메소드는 클래스가 돌아가는 데 있어 필요한 정보들을 넣는 것이라고 생각하면 돼요\n",
        "그리고 그 뒤에 name_info는 이름을 리턴하는 메소드, age_info는 나이를 리턴하는 메소드 등이고요\n",
        "__init__ 메소드에 모든 변수에 self.를 붙였는데 어떤 메소드든 global하게 사용 가능한 변수를 만들고 싶다면 self.를 붙이면 돼요\n",
        "\"\"\"\n",
        "\n",
        "# 아직 감을 잘 못 잡으실 거예요\n",
        "# 디테일한 예시를 하나 더 들어보죠\n",
        "# 은행 계좌를 다루는 클래스를 만들어 볼게요\n",
        "# 기능으로는 입금, 출금, 잔액 조회, 계좌 정보 조회 4개를 구현할게요\n",
        "\n",
        "class BankAccount:\n",
        "    # 계좌 개설 시 이름과 잔액 설정\n",
        "    def __init__(self, owner, balance):\n",
        "        self.owner = owner # 예금주\n",
        "        self.balance = balance # 잔액\n",
        "\n",
        "    # 입금 메소드\n",
        "    def deposit(self, amount): # amount: 입금할 금액\n",
        "        self.balance += amount # a += b는 a = a + b랑 똑같은 코드예요\n",
        "\n",
        "    # 출금 메소드\n",
        "    def withdraw(self, amount): # amount: 출금할 금액\n",
        "        if amount > self.balance: # 출금할 금액이 잔액보다 클 경우를 대비\n",
        "            print(\"Insufficient funds\")\n",
        "        else:\n",
        "            self.balance -= amount\n",
        "\n",
        "    # 잔액 조회 메소드\n",
        "    def get_balance(self):\n",
        "        return self.balance\n",
        "\n",
        "    # 계좌 정보 출력 메소드\n",
        "    def display_info(self):\n",
        "        info = f\"Owner: {self.owner}, Balance: {self.balance}\"\n",
        "        return info\n",
        "\n",
        "\n",
        "# 계좌 개설 및 1000원 넣기\n",
        "my_account = BankAccount(\"sangho\", 1000)"
      ],
      "metadata": {
        "id": "vVgtKzF1H8Kj"
      },
      "execution_count": null,
      "outputs": []
    },
    {
      "cell_type": "code",
      "source": [
        "# 잔액 조회\n",
        "print(my_account.get_balance())"
      ],
      "metadata": {
        "colab": {
          "base_uri": "https://localhost:8080/"
        },
        "id": "OGDg0NHFPrf6",
        "outputId": "c573e0bf-3cf7-404d-dadc-2f1e0e9ab95c"
      },
      "execution_count": null,
      "outputs": [
        {
          "output_type": "stream",
          "name": "stdout",
          "text": [
            "1000\n"
          ]
        }
      ]
    },
    {
      "cell_type": "code",
      "source": [
        "# 500원 입금\n",
        "my_account.deposit(500)"
      ],
      "metadata": {
        "id": "dKulmLJqPuSS"
      },
      "execution_count": null,
      "outputs": []
    },
    {
      "cell_type": "code",
      "source": [
        "# 현재 계좌 잔액 조회\n",
        "print(my_account.get_balance())"
      ],
      "metadata": {
        "colab": {
          "base_uri": "https://localhost:8080/"
        },
        "id": "CQxGwyGFP3S0",
        "outputId": "c58658e1-16e3-48d5-d4e4-31167b03ca71"
      },
      "execution_count": null,
      "outputs": [
        {
          "output_type": "stream",
          "name": "stdout",
          "text": [
            "1500\n"
          ]
        }
      ]
    },
    {
      "cell_type": "code",
      "source": [
        "# 1500원 출금\n",
        "my_account.withdraw(1500)"
      ],
      "metadata": {
        "id": "wP8wBeSSP6Ww"
      },
      "execution_count": null,
      "outputs": []
    },
    {
      "cell_type": "code",
      "source": [
        "# 현재 계좌 잔액 조회\n",
        "print(my_account.get_balance())"
      ],
      "metadata": {
        "colab": {
          "base_uri": "https://localhost:8080/"
        },
        "id": "Fc74To-mQIgw",
        "outputId": "af199e60-7344-4627-98b5-533b41869ba3"
      },
      "execution_count": null,
      "outputs": [
        {
          "output_type": "stream",
          "name": "stdout",
          "text": [
            "0\n"
          ]
        }
      ]
    },
    {
      "cell_type": "code",
      "source": [
        "# 계좌 정보 출력\n",
        "print(my_account.display_info())"
      ],
      "metadata": {
        "colab": {
          "base_uri": "https://localhost:8080/"
        },
        "id": "zHqivA0lQJcV",
        "outputId": "bd18feff-27fd-4757-e354-920d3d29f342"
      },
      "execution_count": null,
      "outputs": [
        {
          "output_type": "stream",
          "name": "stdout",
          "text": [
            "Owner: sangho, Balance: 0\n"
          ]
        }
      ]
    },
    {
      "cell_type": "code",
      "source": [
        "\"\"\"\n",
        "아직 왜 클래스가 \"객체 지향\"인지 감을 잘 못 잡으실 거예요\n",
        "\n",
        "아까 자동차로 비유를 들었으니 간단한 자동차 조립을 예시로 구현해보죠\n",
        "여기서는 간단하게 범퍼, 도어, 타이어만 가지고 차량을 제작할 수 있다고 가정해볼게요\n",
        "\"\"\"\n",
        "\n",
        "# 범퍼 클래스 정의\n",
        "class Bumper:\n",
        "    def __init__(self, material):\n",
        "        self.material = material\n",
        "\n",
        "    def describe(self):\n",
        "        return f\"Bumper made of {self.material}\"\n",
        "\n",
        "\n",
        "# 차량 도어 클래스 정의\n",
        "class Door:\n",
        "    def __init__(self, color):\n",
        "        self.color = color\n",
        "\n",
        "    def describe(self):\n",
        "        return f\"Door painted in {self.color} color\"\n",
        "\n",
        "\n",
        "# 차량 타이어 클래스 정의\n",
        "class Tire:\n",
        "    def __init__(self, size):\n",
        "        self.size = size\n",
        "\n",
        "    def describe(self):\n",
        "        return f\"Tire with size {self.size} inches\"\n",
        "\n",
        "\n",
        "# 차량 완성본 클래스 정의\n",
        "class Car:\n",
        "    def __init__(self, model):\n",
        "        self.model = model # 차량 모델명\n",
        "        self.doors = [] # 도어는 보통 2개 또는 4개를 탑재하니 미리 리스트로 정의\n",
        "        self.tires = [] # 타이어는 4개가 일반적이지만 버스, 트럭 등은 6개 이상도 존재하니 혹시 몰라서 리스트로 정의\n",
        "\n",
        "    # 범퍼 소재 정의\n",
        "    def add_bumper(self, bumper):\n",
        "        self.bumper = bumper\n",
        "\n",
        "    # 도어 컬러 정의\n",
        "    def add_door(self, door):\n",
        "        self.doors.append(door)\n",
        "\n",
        "    # 타이어 정의\n",
        "    def add_tire(self, tire):\n",
        "        self.tires.append(tire)\n",
        "\n",
        "    # 최종적으로 조립한 자동차 설명하는 함수 정의\n",
        "    def describe(self):\n",
        "        # 자동차 사양 정보들을 담을 리스트 정의\n",
        "        description = [f\"Model: {self.model}\"]\n",
        "\n",
        "        # 범퍼 소재 사양 추가\n",
        "        description.append(self.bumper.describe())\n",
        "\n",
        "        # 도어 갯수만큼 사양 설명 추가\n",
        "        description.append(f\"The number of doors is {len(self.doors)}\")\n",
        "        for d in self.doors:\n",
        "            description.append(d.describe())\n",
        "\n",
        "        # 타이어 갯수만큼 사양 설명 추가\n",
        "        description.append(f\"The number of tires is {len(self.tires)}\")\n",
        "        for t in self.tires:\n",
        "            description.append(t.describe())\n",
        "\n",
        "        return description\n",
        "\n",
        "\n",
        "# 조립 과정\n",
        "my_car = Car(\"Tesla Model S\")\n",
        "my_car.add_bumper(Bumper(\"carbon fiber\"))\n",
        "my_car.add_door(Door(\"red\"))\n",
        "my_car.add_door(Door(\"red\"))\n",
        "my_car.add_tire(Tire(19))\n",
        "my_car.add_tire(Tire(19))\n",
        "my_car.add_tire(Tire(19))\n",
        "my_car.add_tire(Tire(19))\n",
        "\n",
        "# 완성된 자동차 설명\n",
        "for des in my_car.describe():\n",
        "    print(des)"
      ],
      "metadata": {
        "colab": {
          "base_uri": "https://localhost:8080/"
        },
        "id": "NQ0ZxaDYQNCG",
        "outputId": "7d1bfc01-f88a-43b1-866f-f1ced63d9da0"
      },
      "execution_count": null,
      "outputs": [
        {
          "output_type": "stream",
          "name": "stdout",
          "text": [
            "Model: Tesla Model S\n",
            "Bumper made of carbon fiber\n",
            "The number of doors is 2\n",
            "Door painted in red color\n",
            "Door painted in red color\n",
            "The number of tires is 4\n",
            "Tire with size 19 inches\n",
            "Tire with size 19 inches\n",
            "Tire with size 19 inches\n",
            "Tire with size 19 inches\n"
          ]
        }
      ]
    },
    {
      "cell_type": "code",
      "source": [
        "# 여기서 만약에 차량 타이어에 대한 설명을 inch가 아닌 cm으로 나타내고 싶다면?\n",
        "# 기존 Tire 클래스를 지우고 새로 정의하거나 아래와 같이 수정을 하면 돼요\n",
        "\n",
        "class Tire:\n",
        "    def __init__(self, size):\n",
        "        self.size = size\n",
        "\n",
        "    def describe(self):\n",
        "        return f\"Tire with size {self.size * 2.54} cm\" # 1 inch = 2.54 cm\n",
        "\n",
        "\n",
        "# 이제 아까 코드를 다시 실행하면\n",
        "my_car = Car(\"Tesla Model S\")\n",
        "my_car.add_bumper(Bumper(\"carbon fiber\"))\n",
        "my_car.add_door(Door(\"red\"))\n",
        "my_car.add_door(Door(\"red\"))\n",
        "my_car.add_tire(Tire(19))\n",
        "my_car.add_tire(Tire(19))\n",
        "my_car.add_tire(Tire(19))\n",
        "my_car.add_tire(Tire(19))\n",
        "\n",
        "for des in my_car.describe():\n",
        "    print(des)"
      ],
      "metadata": {
        "colab": {
          "base_uri": "https://localhost:8080/"
        },
        "id": "baEYURMrT5WW",
        "outputId": "f4939b83-089e-4377-d5c6-3f5f566f202c"
      },
      "execution_count": null,
      "outputs": [
        {
          "output_type": "stream",
          "name": "stdout",
          "text": [
            "Model: Tesla Model S\n",
            "Bumper made of carbon fiber\n",
            "The number of doors is 2\n",
            "Door painted in red color\n",
            "Door painted in red color\n",
            "The number of tires is 4\n",
            "Tire with size 48.26 cm\n",
            "Tire with size 48.26 cm\n",
            "Tire with size 48.26 cm\n",
            "Tire with size 48.26 cm\n"
          ]
        }
      ]
    },
    {
      "cell_type": "code",
      "source": [
        "\"\"\"\n",
        "이처럼 클래스는 모듈화를 위해서 꼭 필요해요\n",
        "지금은 간단한 코드로 구현해서 모듈화의 필요성을 느끼지 못하겠지만 나중에 대규모 프로젝트를 수행할 때 또는 코드를 배포할 일이 생긴다면 클래스로 구현하는 것이 더 편할거예요\n",
        "\"\"\""
      ],
      "metadata": {
        "id": "UNecinW2XF4X"
      },
      "execution_count": null,
      "outputs": []
    }
  ]
}