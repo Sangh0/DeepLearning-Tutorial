{
  "nbformat": 4,
  "nbformat_minor": 0,
  "metadata": {
    "colab": {
      "provenance": [],
      "include_colab_link": true
    },
    "kernelspec": {
      "name": "python3",
      "display_name": "Python 3"
    },
    "language_info": {
      "name": "python"
    }
  },
  "cells": [
    {
      "cell_type": "markdown",
      "metadata": {
        "id": "view-in-github",
        "colab_type": "text"
      },
      "source": [
        "<a href=\"https://colab.research.google.com/github/Sangh0/DeepLearning-Tutorial/blob/main/current_materials/2_python_review_with_baekjoon.ipynb\" target=\"_parent\"><img src=\"https://colab.research.google.com/assets/colab-badge.svg\" alt=\"Open In Colab\"/></a>"
      ]
    },
    {
      "cell_type": "markdown",
      "source": [
        "# Python 복습\n",
        "- 다음 진도는 간단한 머신러닝 모델 구현으로 진행하려다 여러분이 아직 파이썬에 익숙치 않아 하실 것 같아서 백준 문제 몇 개 리뷰를 좀 하려고 해요\n",
        "- 이번 시간에 여러분들이 아래 문제들을 얼마나 잘 이해하시는지 보고 머신러닝 구현으로 넘어갈게요\n",
        "    - 다음 진도에 대한 힌트를 살짝 드리자면 머신러닝의 기초 중에 가장 기초인 linear regresison (선형 회귀), linear classification (선형 분류)을 살펴볼 거예요\n",
        "    - 이 2개를 구현하기 위한 패키지인 numpy (넘파이), scikit-learn (사이킷런) 패키지를 활용할 거고요\n",
        "    - 또한 시각화를 위해 matplotlib (맷플랍립 or 맷플랍라이브러리)도 활용할 겁니다\n",
        "    - 그리고 머신러닝, 딥러닝을 공부하기 위해 얼마나 수학이 중요한지 깨닫기 위해 Gradient Descent (경사 하강법)라는 알고리즘을 직접 구현할 거예요\n",
        "    - 나중에 시간 나실 때 linear regression, gradient descent에 대해서 간단하게 살펴보세요"
      ],
      "metadata": {
        "id": "IMTzF7gGDDpU"
      }
    },
    {
      "cell_type": "code",
      "execution_count": null,
      "metadata": {
        "colab": {
          "base_uri": "https://localhost:8080/"
        },
        "id": "iMC2IaIDC5fI",
        "outputId": "06d5cb94-17bf-4c6a-ed32-3cc2fdf965e3"
      },
      "outputs": [
        {
          "output_type": "stream",
          "name": "stdout",
          "text": [
            "5\n",
            "*\n",
            "**\n",
            "***\n",
            "****\n",
            "*****\n"
          ]
        }
      ],
      "source": [
        "https://www.acmicpc.net/problem/2438\n",
        "\"\"\"\n",
        "\n",
        "Problem. 첫째 줄에는 별 1개, 둘째 줄에는 별 2개, N번째 줄에는 별 N개를 찍는 문제\n",
        "\n",
        "Input: 첫째 줄에 N(1 ≤ N ≤ 100)이 주어진다.\n",
        "Output: 첫째 줄부터 N번째 줄까지 차례대로 별을 출력한다.\n",
        "\n",
        "Example\n",
        "\n",
        "# 입력\n",
        ">>> 5\n",
        "\n",
        "# 출력\n",
        ">>> *\n",
        ">>> **\n",
        ">>> ***\n",
        ">>> ****\n",
        ">>> *****\n",
        "\"\"\"\n",
        "\n",
        "N = int(input())\n",
        "\n",
        "for i in range(N):\n",
        "    print(\"*\" * (i+1))\n",
        "\n",
        "# 위처럼 코드를 작성할 수 있고 다른 방법은 아래와 같아요\n",
        "\n",
        "N = int(input())\n",
        "\n",
        "for i in range(1, N+1):\n",
        "    print(\"*\" * i)\n",
        "\n",
        "# 위의 코드는 파이썬의 for문 range를 1부터 시작하게끔 설정한 거예요"
      ]
    },
    {
      "cell_type": "code",
      "source": [
        "\"\"\"\n",
        "https://www.acmicpc.net/problem/8393\n",
        "\n",
        "Problem. n이 주어졌을 때, 1부터 n까지 합을 구하는 프로그램을 작성하시오.\n",
        "\n",
        "Input: 첫째 줄에 n (1 ≤ n ≤ 10,000)이 주어진다.\n",
        "Output: 1부터 n까지 합을 출력한다.\n",
        "\n",
        "Example\n",
        "\n",
        "# 입력\n",
        ">>> 3\n",
        "\n",
        "# 출력\n",
        ">>> 6\n",
        "\"\"\"\n",
        "\n",
        "# 이 문제는 크게 두 가지 방법으로 풀 수 있어요\n",
        "# 하나는 for문을 이용하는 것이예요\n",
        "\n",
        "N = int(input())\n",
        "\n",
        "# 1부터 N까지의 합을 더해줄 변수 초기화\n",
        "result = 0\n",
        "for num in range(1, N+1):\n",
        "    result = result + num\n",
        "\n",
        "print(result)\n",
        "\n",
        "# 다른 방법은 중학교,,? 고등학교,,? 기억이 잘 안나네요 아무튼 이때 배웠던 등차수열의 합 공식을 이용하는 거예요\n",
        "# https://blog.kakaocdn.net/dn/rMPNQ/btqB2uRHJqI/HwKpeUykVLuhl4dRk8l5B0/img.png\n",
        "# 공식은 위 링크를 참고하세요\n",
        "\n",
        "N = int(input())\n",
        "\n",
        "result = N * (N+1) / 2\n",
        "\n",
        "print(int(result)) # int를 붙인 이유는 위 연산을 수행하면 float type으로 바뀌기 때문에 붙였어요"
      ],
      "metadata": {
        "colab": {
          "base_uri": "https://localhost:8080/"
        },
        "id": "0DvFuQqPDC5r",
        "outputId": "2dbcfe62-4134-427f-fdcb-231fe5547b92"
      },
      "execution_count": null,
      "outputs": [
        {
          "output_type": "stream",
          "name": "stdout",
          "text": [
            "3\n",
            "6.0\n"
          ]
        }
      ]
    },
    {
      "cell_type": "code",
      "source": [
        "\"\"\"\n",
        "https://www.acmicpc.net/problem/10807\n",
        "\n",
        "Problem. 총 N개의 정수가 주어졌을 때, 정수 v가 몇 개인지 구하는 프로그램을 작성하시오.\n",
        "\n",
        "Input: 첫째 줄에 정수의 개수 N(1 ≤ N ≤ 100)이 주어진다. 둘째 줄에는 정수가 공백으로 구분되어져있다. 셋째 줄에는 찾으려고 하는 정수 v가 주어진다. 입력으로 주어지는 정수와 v는 -100보다 크거나 같으며, 100보다 작거나 같다.\n",
        "Output: 첫째 줄에 입력으로 주어진 N개의 정수 중에 v가 몇 개인지 출력한다.\n",
        "\n",
        "Example\n",
        "\n",
        "# 입력\n",
        ">>> 11\n",
        ">>> 1 4 1 2 4 2 4 2 3 4 4\n",
        ">>> 2\n",
        "\n",
        "# 출력\n",
        ">>> 3\n",
        "\"\"\"\n",
        "\n",
        "# 입력 받기\n",
        "N = int(input())\n",
        "num_list = map(int, input().split())\n",
        "num_list = list(num_list) # 리스트로 정의\n",
        "V = int(input())\n",
        "\n",
        "# V와 같은 수를 카운트하기 위해 초기화\n",
        "count = 0\n",
        "\n",
        "# num_list 안에 V가 몇 개 있는지 살펴보기 위해 for문 실행\n",
        "for num in num_list:\n",
        "    # num이 V랑 같으면 count에 1씩 더하기\n",
        "    if num == V:\n",
        "        count += 1\n",
        "\n",
        "print(count)"
      ],
      "metadata": {
        "colab": {
          "base_uri": "https://localhost:8080/"
        },
        "id": "Wu6GZzkDDC7y",
        "outputId": "32d6c329-d728-433f-9462-8dde05e67617"
      },
      "execution_count": null,
      "outputs": [
        {
          "output_type": "stream",
          "name": "stdout",
          "text": [
            "3\n",
            "1 2 3 4 5 6\n",
            "1\n",
            "[1, 2, 3, 4, 5, 6]\n"
          ]
        }
      ]
    },
    {
      "cell_type": "code",
      "source": [
        "\"\"\"\n",
        "https://www.acmicpc.net/problem/5597\n",
        "\n",
        "Problem. X대학 M교수님은 프로그래밍 수업을 맡고 있다. 교실엔 학생이 30명이 있는데, 학생 명부엔 각 학생별로 1번부터 30번까지 출석번호가 붙어 있다.\n",
        "         교수님이 내준 특별과제를 28명이 제출했는데, 그 중에서 제출 안 한 학생 2명의 출석번호를 구하는 프로그램을 작성하시오.\n",
        "\n",
        "Input: 입력은 총 28줄로 각 제출자(학생)의 출석번호 n(1 ≤ n ≤ 30)가 한 줄에 하나씩 주어진다. 출석번호에 중복은 없다.\n",
        "Output: 출력은 2줄이다. 1번째 줄엔 제출하지 않은 학생의 출석번호 중 가장 작은 것을 출력하고, 2번째 줄에선 그 다음 출석번호를 출력한다.\n",
        "\n",
        "Example\n",
        "\n",
        "# 입력\n",
        ">>> 3\n",
        ">>> 1\n",
        ">>> 4\n",
        ">>> 5\n",
        ">>> 7\n",
        ">>> 9\n",
        ">>> 6\n",
        ">>> 10\n",
        ">>> 11\n",
        ">>> 12\n",
        ">>> 13\n",
        ">>> 14\n",
        ">>> 15\n",
        ">>> 16\n",
        ">>> 17\n",
        ">>> 18\n",
        ">>> 19\n",
        ">>> 20\n",
        ">>> 21\n",
        ">>> 22\n",
        ">>> 23\n",
        ">>> 24\n",
        ">>> 25\n",
        ">>> 26\n",
        ">>> 27\n",
        ">>> 28\n",
        ">>> 29\n",
        ">>> 30\n",
        "\n",
        "# 출력\n",
        ">>> 2\n",
        ">>> 8\n",
        "\"\"\"\n",
        "\n",
        "# 입력은 총 28줄로 주어진다고 문제에서 가정했고 이 숫자들을 담을 빈 리스트 정의\n",
        "num_list = []\n",
        "for _ in range(28):\n",
        "    num_list.append(int(input()))\n",
        "\n",
        "# num_list에 없는 숫자를 담을 빈 리스트 정의\n",
        "result = []\n",
        "\n",
        "# 1부터 30까지 돌면서 num_list에 없는 숫자 찾기\n",
        "for i in range(1, 31):\n",
        "    # 만약 i가 num_list에 없다면\n",
        "    if i not in num_list:\n",
        "        # result 리스트에 담기\n",
        "        result.append(i)\n",
        "\n",
        "# 출력할 때 작은 숫자부터 출력해야하므로 sorting\n",
        "result.sort()\n",
        "\n",
        "# 하나씩 출력해야 하므로 for문을 이용해 프린트\n",
        "for num in result:\n",
        "    print(num)"
      ],
      "metadata": {
        "id": "FXCRMnIlDC-R"
      },
      "execution_count": null,
      "outputs": []
    },
    {
      "cell_type": "code",
      "source": [
        "\"\"\"\n",
        "https://www.acmicpc.net/problem/1546\n",
        "\n",
        "Problem. 세준이는 기말고사를 망쳤다. 세준이는 점수를 조작해서 집에 가져가기로 했다. 일단 세준이는 자기 점수 중에 최댓값을 골랐다. 이 값을 M이라고 한다. 그리고 나서 모든 점수를 점수/M*100으로 고쳤다.\n",
        "         예를 들어, 세준이의 최고점이 70이고, 수학점수가 50이었으면 수학점수는 50/70*100이 되어 71.43점이 된다.\n",
        "         세준이의 성적을 위의 방법대로 새로 계산했을 때, 새로운 평균을 구하는 프로그램을 작성하시오.\n",
        "\n",
        "Input: 첫째 줄에 시험 본 과목의 개수 N이 주어진다. 이 값은 1000보다 작거나 같다. 둘째 줄에 세준이의 현재 성적이 주어진다. 이 값은 100보다 작거나 같은 음이 아닌 정수이고, 적어도 하나의 값은 0보다 크다.\n",
        "Output: 첫째 줄에 새로운 평균을 출력한다. 실제 정답과 출력값의 절대오차 또는 상대오차가 10-2 이하이면 정답이다.\n",
        "\n",
        "Example\n",
        "\n",
        "# 입력\n",
        ">>> 3\n",
        ">>> 40 80 60\n",
        "\n",
        "# 출력\n",
        ">>> 75.0\n",
        "\"\"\"\n",
        "\n",
        "N = int(input())\n",
        "score_list = list(map(int, input().split()))\n",
        "\n",
        "# 자기 점수 중 최댓값 찾기\n",
        "max_score = max(score_list)\n",
        "\n",
        "# 모든 점수를 점수/M*100으로 고치기\n",
        "# 새롭게 조작한 점수들을 담을 빈 리스트 정의\n",
        "new_score_list = []\n",
        "# for문을 이용해 점수 하나씩 접근\n",
        "for score in score_list:\n",
        "    # 점수/M*100으로 조작\n",
        "    new_score = score / max_score * 100\n",
        "    new_score_list.append(new_score)\n",
        "\n",
        "# 평균 내기\n",
        "print(sum(new_score_list) / len(new_score_list))"
      ],
      "metadata": {
        "colab": {
          "base_uri": "https://localhost:8080/"
        },
        "id": "cc3Cl3VMDDAv",
        "outputId": "1fb331e3-4316-4453-d7f2-8f75a929a957"
      },
      "execution_count": null,
      "outputs": [
        {
          "output_type": "execute_result",
          "data": {
            "text/plain": [
              "range(0, 24)"
            ]
          },
          "metadata": {},
          "execution_count": 8
        }
      ]
    },
    {
      "cell_type": "code",
      "source": [
        "\"\"\"\n",
        "https://www.acmicpc.net/problem/11720\n",
        "\n",
        "Problem. N개의 숫자가 공백 없이 쓰여있다. 이 숫자를 모두 합해서 출력하는 프로그램을 작성하시오.\n",
        "\n",
        "Input: 첫째 줄에 숫자의 개수 N (1 ≤ N ≤ 100)이 주어진다. 둘째 줄에 숫자 N개가 공백없이 주어진다.\n",
        "Output: 입력으로 주어진 숫자 N개의 합을 출력한다.\n",
        "\n",
        "Example\n",
        "\n",
        "# 입력\n",
        ">>> 5\n",
        ">>> 54321\n",
        "\n",
        "# 출력\n",
        ">>> 15\n",
        "\"\"\"\n",
        "\n",
        "N = int(input())\n",
        "num_list = input()\n",
        "\n",
        "# 합을 나타내는 변수 초기화\n",
        "result = 0\n",
        "\n",
        "# num_list는 현재 문자열 타입이고 for문을 이용해 접근 가능\n",
        "for num in num_list:\n",
        "    # num은 아직 문자열 타입이므로 정수형 타입으로 변환\n",
        "    num = int(num)\n",
        "    # result에 더하기\n",
        "    result += num\n",
        "\n",
        "print(result)"
      ],
      "metadata": {
        "colab": {
          "base_uri": "https://localhost:8080/"
        },
        "id": "9C-hhqGxDDC9",
        "outputId": "cbbc4c2a-e148-4e29-9507-703eaaab35c3"
      },
      "execution_count": null,
      "outputs": [
        {
          "output_type": "execute_result",
          "data": {
            "text/plain": [
              "1"
            ]
          },
          "metadata": {},
          "execution_count": 9
        }
      ]
    },
    {
      "cell_type": "code",
      "source": [
        "\"\"\"\n",
        "https://www.acmicpc.net/problem/1152\n",
        "\n",
        "Problem. 영어 대소문자와 공백으로 이루어진 문자열이 주어진다. 이 문자열에는 몇 개의 단어가 있을까? 이를 구하는 프로그램을 작성하시오. 단, 한 단어가 여러 번 등장하면 등장한 횟수만큼 모두 세어야 한다.\n",
        "\n",
        "Input: 첫 줄에 영어 대소문자와 공백으로 이루어진 문자열이 주어진다. 이 문자열의 길이는 1,000,000을 넘지 않는다. 단어는 공백 한 개로 구분되며, 공백이 연속해서 나오는 경우는 없다. 또한 문자열은 공백으로 시작하거나 끝날 수 있다.\n",
        "Output: 첫째 줄에 단어의 개수를 출력한다.\n",
        "\n",
        "Example\n",
        "\n",
        "# 입력\n",
        ">>> The Curious Case of Benjamin Button\n",
        "\n",
        "# 출력\n",
        ">>> 6\n",
        "\"\"\"\n",
        "\n",
        "sentence = input().split()\n",
        "print(len(sentence))"
      ],
      "metadata": {
        "colab": {
          "base_uri": "https://localhost:8080/"
        },
        "id": "r5fEI39MHaz2",
        "outputId": "e8c29646-c9db-4f3e-a071-64b6091f7f10"
      },
      "execution_count": null,
      "outputs": [
        {
          "output_type": "stream",
          "name": "stdout",
          "text": [
            " The first character is a blank\n",
            "7\n"
          ]
        }
      ]
    },
    {
      "cell_type": "code",
      "source": [],
      "metadata": {
        "id": "uAOXaDpOPWeP"
      },
      "execution_count": null,
      "outputs": []
    }
  ]
}